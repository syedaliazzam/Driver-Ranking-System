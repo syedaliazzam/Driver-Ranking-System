{
 "cells": [
  {
   "cell_type": "code",
   "execution_count": null,
   "metadata": {
    "id": "71e-F9HTanFu"
   },
   "outputs": [],
   "source": [
    "#impot packages\n",
    "import pandas as pd\n",
    "from sklearn.utils import resample"
   ]
  },
  {
   "cell_type": "code",
   "execution_count": null,
   "metadata": {},
   "outputs": [],
   "source": [
    "#Import authority from google to use bigquery\n",
    "from google.colab import auth\n",
    "auth.authenticate_user()"
   ]
  },
  {
   "cell_type": "code",
   "execution_count": null,
   "metadata": {
    "id": "10cXfFnfadj-"
   },
   "outputs": [],
   "source": [
    "#extracting data\n",
    "%%bigquery df --project abc df\n",
    "select * \n",
    "from abc)"
   ]
  },
  {
   "cell_type": "code",
   "execution_count": null,
   "metadata": {
    "colab": {
     "base_uri": "https://localhost:8080/",
     "height": 326
    },
    "id": "CAc8VUAKa55B",
    "outputId": "d64bad52-159b-4fb7-8713-c0b8efd79f79"
   },
   "outputs": [
    {
     "data": {
      "text/plain": [
       "(30848, 55)"
      ]
     },
     "metadata": {
      "tags": []
     },
     "output_type": "display_data"
    },
    {
     "data": {
      "text/html": [
       "<div>\n",
       "<style scoped>\n",
       "    .dataframe tbody tr th:only-of-type {\n",
       "        vertical-align: middle;\n",
       "    }\n",
       "\n",
       "    .dataframe tbody tr th {\n",
       "        vertical-align: top;\n",
       "    }\n",
       "\n",
       "    .dataframe thead th {\n",
       "        text-align: right;\n",
       "    }\n",
       "</style>\n",
       "<table border=\"1\" class=\"dataframe\">\n",
       "  <thead>\n",
       "    <tr style=\"text-align: right;\">\n",
       "      <th></th>\n",
       "      <th>_id</th>\n",
       "      <th>city_code</th>\n",
       "      <th>home_zone</th>\n",
       "      <th>source</th>\n",
       "      <th>model_number</th>\n",
       "      <th>AGE</th>\n",
       "      <th>smartphone_brand</th>\n",
       "      <th>smartphone_model</th>\n",
       "      <th>license_type</th>\n",
       "      <th>city</th>\n",
       "      <th>driver_id</th>\n",
       "      <th>Start</th>\n",
       "      <th>Last_date</th>\n",
       "      <th>Trips</th>\n",
       "      <th>Recency</th>\n",
       "      <th>frequency</th>\n",
       "      <th>avg_h</th>\n",
       "      <th>working_perc</th>\n",
       "      <th>non_sawari</th>\n",
       "      <th>freq_work_days</th>\n",
       "      <th>monetory</th>\n",
       "      <th>FF</th>\n",
       "      <th>low_rated</th>\n",
       "      <th>avg_rating</th>\n",
       "      <th>ratings_given</th>\n",
       "      <th>promo_rides</th>\n",
       "      <th>wallet_rides</th>\n",
       "      <th>fake_dist</th>\n",
       "      <th>pickup_avg</th>\n",
       "      <th>physical_loc</th>\n",
       "      <th>zero_km</th>\n",
       "      <th>avg_trip_dist</th>\n",
       "      <th>avg_trip_time</th>\n",
       "      <th>avg_trip_speed</th>\n",
       "      <th>users</th>\n",
       "      <th>dd</th>\n",
       "      <th>net_busy</th>\n",
       "      <th>fake_imei</th>\n",
       "      <th>Low_rating_perc</th>\n",
       "      <th>ratings_perc</th>\n",
       "      <th>promo_rides_perc</th>\n",
       "      <th>wallet_rides_perc</th>\n",
       "      <th>physical_loc_perc</th>\n",
       "      <th>fake_dist_perc</th>\n",
       "      <th>zero_km_perc</th>\n",
       "      <th>fake_imei_perc</th>\n",
       "      <th>repeat_users_perc</th>\n",
       "      <th>defaulter</th>\n",
       "      <th>bonus</th>\n",
       "      <th>avg_bonus</th>\n",
       "      <th>total_bonus</th>\n",
       "      <th>limit_reached</th>\n",
       "      <th>activehours_delta</th>\n",
       "      <th>ff_delta</th>\n",
       "      <th>accp_delta</th>\n",
       "    </tr>\n",
       "  </thead>\n",
       "  <tbody>\n",
       "    <tr>\n",
       "      <th>0</th>\n",
       "      <td>5abcff3ebd850b62774cf82c</td>\n",
       "      <td>KHI</td>\n",
       "      <td>None</td>\n",
       "      <td>Franchise</td>\n",
       "      <td>2017</td>\n",
       "      <td>25.0</td>\n",
       "      <td>Motorolla</td>\n",
       "      <td>Drioad HD</td>\n",
       "      <td>Learner</td>\n",
       "      <td>58f9d76315f7617c3705db21</td>\n",
       "      <td>5abcff3ebd850b62774cf82c</td>\n",
       "      <td>2018-03-30</td>\n",
       "      <td>2018-05-15</td>\n",
       "      <td>144</td>\n",
       "      <td>1055</td>\n",
       "      <td>21.913043</td>\n",
       "      <td>14.853571</td>\n",
       "      <td>0.630435</td>\n",
       "      <td>0.104167</td>\n",
       "      <td>34.758621</td>\n",
       "      <td>17024</td>\n",
       "      <td>0.514286</td>\n",
       "      <td>10</td>\n",
       "      <td>4.741259</td>\n",
       "      <td>143</td>\n",
       "      <td>4</td>\n",
       "      <td>25</td>\n",
       "      <td>33</td>\n",
       "      <td>8.902778</td>\n",
       "      <td>47</td>\n",
       "      <td>1</td>\n",
       "      <td>9.875000</td>\n",
       "      <td>25.944444</td>\n",
       "      <td>25.091163</td>\n",
       "      <td>128</td>\n",
       "      <td>0.000000</td>\n",
       "      <td>3.150000</td>\n",
       "      <td>0</td>\n",
       "      <td>0.069930</td>\n",
       "      <td>0.993056</td>\n",
       "      <td>0.027778</td>\n",
       "      <td>0.173611</td>\n",
       "      <td>0.326389</td>\n",
       "      <td>0.229167</td>\n",
       "      <td>0.006944</td>\n",
       "      <td>0.000000</td>\n",
       "      <td>0.888889</td>\n",
       "      <td>0</td>\n",
       "      <td>0.750000</td>\n",
       "      <td>281.818182</td>\n",
       "      <td>3100.0</td>\n",
       "      <td>0.066667</td>\n",
       "      <td>-1.812952</td>\n",
       "      <td>NaN</td>\n",
       "      <td>1.320619</td>\n",
       "    </tr>\n",
       "    <tr>\n",
       "      <th>1</th>\n",
       "      <td>5af1d7d2554d9f31efed088b</td>\n",
       "      <td>KHI</td>\n",
       "      <td>Malir &amp; Airport</td>\n",
       "      <td>Organic</td>\n",
       "      <td>2011</td>\n",
       "      <td>38.0</td>\n",
       "      <td>Samsung</td>\n",
       "      <td>S7</td>\n",
       "      <td>Permanent</td>\n",
       "      <td>58f9d76315f7617c3705db21</td>\n",
       "      <td>5af1d7d2554d9f31efed088b</td>\n",
       "      <td>2018-05-09</td>\n",
       "      <td>2020-05-28</td>\n",
       "      <td>410</td>\n",
       "      <td>312</td>\n",
       "      <td>3.826667</td>\n",
       "      <td>8.934247</td>\n",
       "      <td>0.250667</td>\n",
       "      <td>0.102439</td>\n",
       "      <td>19.930556</td>\n",
       "      <td>50965</td>\n",
       "      <td>0.561644</td>\n",
       "      <td>24</td>\n",
       "      <td>4.787958</td>\n",
       "      <td>382</td>\n",
       "      <td>29</td>\n",
       "      <td>74</td>\n",
       "      <td>72</td>\n",
       "      <td>8.699267</td>\n",
       "      <td>36</td>\n",
       "      <td>7</td>\n",
       "      <td>11.436585</td>\n",
       "      <td>22.767726</td>\n",
       "      <td>31.370566</td>\n",
       "      <td>378</td>\n",
       "      <td>0.034146</td>\n",
       "      <td>2.000000</td>\n",
       "      <td>19</td>\n",
       "      <td>0.062827</td>\n",
       "      <td>0.931707</td>\n",
       "      <td>0.070732</td>\n",
       "      <td>0.180488</td>\n",
       "      <td>0.087805</td>\n",
       "      <td>0.175610</td>\n",
       "      <td>0.017073</td>\n",
       "      <td>0.046341</td>\n",
       "      <td>0.921951</td>\n",
       "      <td>0</td>\n",
       "      <td>0.681818</td>\n",
       "      <td>220.714286</td>\n",
       "      <td>15450.0</td>\n",
       "      <td>0.020202</td>\n",
       "      <td>-0.831833</td>\n",
       "      <td>14.554667</td>\n",
       "      <td>0.222667</td>\n",
       "    </tr>\n",
       "    <tr>\n",
       "      <th>2</th>\n",
       "      <td>5e44162c10dbd821cf787e35</td>\n",
       "      <td>KHI</td>\n",
       "      <td>FB Area</td>\n",
       "      <td>Franchise</td>\n",
       "      <td>2018</td>\n",
       "      <td>29.0</td>\n",
       "      <td>Oppo</td>\n",
       "      <td>F7</td>\n",
       "      <td>Learner</td>\n",
       "      <td>58f9d76315f7617c3705db21</td>\n",
       "      <td>5e44162c10dbd821cf787e35</td>\n",
       "      <td>2020-02-14</td>\n",
       "      <td>2020-12-14</td>\n",
       "      <td>224</td>\n",
       "      <td>111</td>\n",
       "      <td>5.157895</td>\n",
       "      <td>17.264407</td>\n",
       "      <td>0.263158</td>\n",
       "      <td>0.084821</td>\n",
       "      <td>20.363636</td>\n",
       "      <td>25040</td>\n",
       "      <td>0.759322</td>\n",
       "      <td>5</td>\n",
       "      <td>4.903846</td>\n",
       "      <td>208</td>\n",
       "      <td>4</td>\n",
       "      <td>18</td>\n",
       "      <td>59</td>\n",
       "      <td>7.004464</td>\n",
       "      <td>29</td>\n",
       "      <td>2</td>\n",
       "      <td>9.357466</td>\n",
       "      <td>21.875000</td>\n",
       "      <td>27.496399</td>\n",
       "      <td>205</td>\n",
       "      <td>0.227679</td>\n",
       "      <td>2.283333</td>\n",
       "      <td>11</td>\n",
       "      <td>0.024038</td>\n",
       "      <td>0.928571</td>\n",
       "      <td>0.017857</td>\n",
       "      <td>0.080357</td>\n",
       "      <td>0.129464</td>\n",
       "      <td>0.263393</td>\n",
       "      <td>0.008929</td>\n",
       "      <td>0.049107</td>\n",
       "      <td>0.915179</td>\n",
       "      <td>0</td>\n",
       "      <td>0.000000</td>\n",
       "      <td>NaN</td>\n",
       "      <td>NaN</td>\n",
       "      <td>0.010753</td>\n",
       "      <td>-2.583056</td>\n",
       "      <td>4.461333</td>\n",
       "      <td>5.674667</td>\n",
       "    </tr>\n",
       "    <tr>\n",
       "      <th>3</th>\n",
       "      <td>5b17bffc4b1f9c652324ab9c</td>\n",
       "      <td>KHI</td>\n",
       "      <td>Gulistan-e-Johar</td>\n",
       "      <td>Partner Referral</td>\n",
       "      <td>2015</td>\n",
       "      <td>51.0</td>\n",
       "      <td>Samsung</td>\n",
       "      <td>SM-J120A</td>\n",
       "      <td>Permanent</td>\n",
       "      <td>58f9d76315f7617c3705db21</td>\n",
       "      <td>5b17bffc4b1f9c652324ab9c</td>\n",
       "      <td>2018-06-10</td>\n",
       "      <td>2021-03-09</td>\n",
       "      <td>740</td>\n",
       "      <td>17</td>\n",
       "      <td>5.164506</td>\n",
       "      <td>12.674901</td>\n",
       "      <td>0.459621</td>\n",
       "      <td>0.037838</td>\n",
       "      <td>14.309392</td>\n",
       "      <td>87685</td>\n",
       "      <td>0.326423</td>\n",
       "      <td>53</td>\n",
       "      <td>4.710490</td>\n",
       "      <td>715</td>\n",
       "      <td>44</td>\n",
       "      <td>62</td>\n",
       "      <td>119</td>\n",
       "      <td>9.829499</td>\n",
       "      <td>166</td>\n",
       "      <td>20</td>\n",
       "      <td>11.596491</td>\n",
       "      <td>24.440379</td>\n",
       "      <td>30.103593</td>\n",
       "      <td>645</td>\n",
       "      <td>0.108108</td>\n",
       "      <td>0.300000</td>\n",
       "      <td>76</td>\n",
       "      <td>0.074126</td>\n",
       "      <td>0.966216</td>\n",
       "      <td>0.059459</td>\n",
       "      <td>0.083784</td>\n",
       "      <td>0.224324</td>\n",
       "      <td>0.160811</td>\n",
       "      <td>0.027027</td>\n",
       "      <td>0.102703</td>\n",
       "      <td>0.871622</td>\n",
       "      <td>0</td>\n",
       "      <td>0.660377</td>\n",
       "      <td>1.836957</td>\n",
       "      <td>169.0</td>\n",
       "      <td>0.268018</td>\n",
       "      <td>0.523574</td>\n",
       "      <td>3.587333</td>\n",
       "      <td>8.916000</td>\n",
       "    </tr>\n",
       "    <tr>\n",
       "      <th>4</th>\n",
       "      <td>5e32e490fe3b161ee7b72772</td>\n",
       "      <td>KHI</td>\n",
       "      <td>Garden</td>\n",
       "      <td>Franchise</td>\n",
       "      <td>2019</td>\n",
       "      <td>42.0</td>\n",
       "      <td>Samsung</td>\n",
       "      <td>J4</td>\n",
       "      <td>Learner</td>\n",
       "      <td>58f9d76315f7617c3705db21</td>\n",
       "      <td>5e32e490fe3b161ee7b72772</td>\n",
       "      <td>2020-01-31</td>\n",
       "      <td>2021-03-09</td>\n",
       "      <td>339</td>\n",
       "      <td>26</td>\n",
       "      <td>5.888337</td>\n",
       "      <td>14.184109</td>\n",
       "      <td>0.243176</td>\n",
       "      <td>0.008850</td>\n",
       "      <td>25.793478</td>\n",
       "      <td>23351</td>\n",
       "      <td>0.656977</td>\n",
       "      <td>8</td>\n",
       "      <td>4.873817</td>\n",
       "      <td>317</td>\n",
       "      <td>11</td>\n",
       "      <td>22</td>\n",
       "      <td>137</td>\n",
       "      <td>4.914201</td>\n",
       "      <td>76</td>\n",
       "      <td>0</td>\n",
       "      <td>8.655022</td>\n",
       "      <td>18.094395</td>\n",
       "      <td>31.900930</td>\n",
       "      <td>326</td>\n",
       "      <td>0.032448</td>\n",
       "      <td>1.400000</td>\n",
       "      <td>28</td>\n",
       "      <td>0.025237</td>\n",
       "      <td>0.935103</td>\n",
       "      <td>0.032448</td>\n",
       "      <td>0.064897</td>\n",
       "      <td>0.224189</td>\n",
       "      <td>0.404130</td>\n",
       "      <td>0.000000</td>\n",
       "      <td>0.082596</td>\n",
       "      <td>0.961652</td>\n",
       "      <td>0</td>\n",
       "      <td>0.000000</td>\n",
       "      <td>NaN</td>\n",
       "      <td>NaN</td>\n",
       "      <td>0.010638</td>\n",
       "      <td>-0.561963</td>\n",
       "      <td>-0.769333</td>\n",
       "      <td>-0.928667</td>\n",
       "    </tr>\n",
       "  </tbody>\n",
       "</table>\n",
       "</div>"
      ],
      "text/plain": [
       "                        _id city_code  ...   ff_delta accp_delta\n",
       "0  5abcff3ebd850b62774cf82c       KHI  ...        NaN   1.320619\n",
       "1  5af1d7d2554d9f31efed088b       KHI  ...  14.554667   0.222667\n",
       "2  5e44162c10dbd821cf787e35       KHI  ...   4.461333   5.674667\n",
       "3  5b17bffc4b1f9c652324ab9c       KHI  ...   3.587333   8.916000\n",
       "4  5e32e490fe3b161ee7b72772       KHI  ...  -0.769333  -0.928667\n",
       "\n",
       "[5 rows x 55 columns]"
      ]
     },
     "metadata": {
      "tags": []
     },
     "output_type": "display_data"
    }
   ],
   "source": [
    "#Data exibition\n",
    "display(df.shape,df.head())"
   ]
  },
  {
   "cell_type": "code",
   "execution_count": null,
   "metadata": {
    "colab": {
     "base_uri": "https://localhost:8080/"
    },
    "id": "icJcA4S6LE1R",
    "outputId": "9016dac2-d693-426e-c374-f02014d2700c"
   },
   "outputs": [
    {
     "data": {
      "text/plain": [
       "13384"
      ]
     },
     "execution_count": 4,
     "metadata": {
      "tags": []
     },
     "output_type": "execute_result"
    }
   ],
   "source": [
    "#adjusting datetime\n",
    "df.Last_date = pd.to_datetime(df.Last_date)\n",
    "df[df.Last_date < '2020-03-01'].defaulter.count()\n",
    "df = df[df.Last_date <= '2020-03-01']"
   ]
  },
  {
   "cell_type": "code",
   "execution_count": null,
   "metadata": {
    "id": "viOJNnLIS-Xg"
   },
   "outputs": [],
   "source": [
    "#creating copy of df for reuse\n",
    "df_original = df # this is a one time run cell "
   ]
  },
  {
   "cell_type": "code",
   "execution_count": null,
   "metadata": {
    "colab": {
     "base_uri": "https://localhost:8080/"
    },
    "id": "zG578KKDi_ct",
    "outputId": "c9957f21-9d57-4a3d-bfec-d8e52d3c3b69"
   },
   "outputs": [
    {
     "data": {
      "text/plain": [
       "defaulter\n",
       "0    8689\n",
       "1    4730\n",
       "Name: defaulter, dtype: int64"
      ]
     },
     "execution_count": 6,
     "metadata": {
      "tags": []
     },
     "output_type": "execute_result"
    }
   ],
   "source": [
    "df =df_original\n",
    "df.groupby('defaulter').defaulter.count()"
   ]
  },
  {
   "cell_type": "code",
   "execution_count": null,
   "metadata": {
    "colab": {
     "base_uri": "https://localhost:8080/",
     "height": 986
    },
    "id": "FjbtMALMbxCw",
    "outputId": "73bab3aa-c597-4ac1-eded-3167ef7d46de"
   },
   "outputs": [
    {
     "data": {
      "text/plain": [
       "(13419, 55)"
      ]
     },
     "metadata": {
      "tags": []
     },
     "output_type": "display_data"
    },
    {
     "data": {
      "text/plain": [
       "_id                     0\n",
       "city_code               0\n",
       "home_zone             390\n",
       "source                554\n",
       "model_number            0\n",
       "AGE                    29\n",
       "smartphone_brand       12\n",
       "smartphone_model        4\n",
       "license_type            8\n",
       "city                    0\n",
       "driver_id               0\n",
       "Start                   0\n",
       "Last_date               0\n",
       "Trips                   0\n",
       "Recency                 0\n",
       "frequency               0\n",
       "avg_h                   0\n",
       "working_perc            0\n",
       "non_sawari              0\n",
       "freq_work_days          0\n",
       "monetory                0\n",
       "FF                      0\n",
       "low_rated               0\n",
       "avg_rating              9\n",
       "ratings_given           0\n",
       "promo_rides             0\n",
       "wallet_rides            0\n",
       "fake_dist               0\n",
       "pickup_avg              0\n",
       "physical_loc            0\n",
       "zero_km                 0\n",
       "avg_trip_dist           0\n",
       "avg_trip_time           0\n",
       "avg_trip_speed         93\n",
       "users                   0\n",
       "dd                      0\n",
       "net_busy                0\n",
       "fake_imei               0\n",
       "Low_rating_perc         9\n",
       "ratings_perc            0\n",
       "promo_rides_perc        0\n",
       "wallet_rides_perc       0\n",
       "physical_loc_perc       0\n",
       "fake_dist_perc          0\n",
       "zero_km_perc            0\n",
       "fake_imei_perc          0\n",
       "repeat_users_perc       0\n",
       "defaulter               0\n",
       "bonus                   0\n",
       "avg_bonus             117\n",
       "total_bonus           117\n",
       "limit_reached           5\n",
       "activehours_delta     310\n",
       "ff_delta             1731\n",
       "accp_delta            310\n",
       "dtype: int64"
      ]
     },
     "metadata": {
      "tags": []
     },
     "output_type": "display_data"
    }
   ],
   "source": [
    "#shape of data\n",
    "display(df.shape, df.isnull().sum())"
   ]
  },
  {
   "cell_type": "code",
   "execution_count": null,
   "metadata": {
    "colab": {
     "base_uri": "https://localhost:8080/"
    },
    "id": "AQoedR2ubEv4",
    "outputId": "fa763b7f-4068-4c32-fbb1-311dd77d95b0"
   },
   "outputs": [
    {
     "name": "stderr",
     "output_type": "stream",
     "text": [
      "/usr/local/lib/python3.7/dist-packages/pandas/core/frame.py:4174: SettingWithCopyWarning: \n",
      "A value is trying to be set on a copy of a slice from a DataFrame\n",
      "\n",
      "See the caveats in the documentation: https://pandas.pydata.org/pandas-docs/stable/user_guide/indexing.html#returning-a-view-versus-a-copy\n",
      "  errors=errors,\n",
      "/usr/local/lib/python3.7/dist-packages/pandas/core/frame.py:4327: SettingWithCopyWarning: \n",
      "A value is trying to be set on a copy of a slice from a DataFrame\n",
      "\n",
      "See the caveats in the documentation: https://pandas.pydata.org/pandas-docs/stable/user_guide/indexing.html#returning-a-view-versus-a-copy\n",
      "  downcast=downcast,\n",
      "/usr/local/lib/python3.7/dist-packages/ipykernel_launcher.py:4: FutureWarning: DataFrame.mean and DataFrame.median with numeric_only=None will include datetime64 and datetime64tz columns in a future version.\n",
      "  after removing the cwd from sys.path.\n",
      "/usr/local/lib/python3.7/dist-packages/pandas/core/series.py:4536: SettingWithCopyWarning: \n",
      "A value is trying to be set on a copy of a slice from a DataFrame\n",
      "\n",
      "See the caveats in the documentation: https://pandas.pydata.org/pandas-docs/stable/user_guide/indexing.html#returning-a-view-versus-a-copy\n",
      "  downcast=downcast,\n"
     ]
    }
   ],
   "source": [
    "# Data Tunning\n",
    "df.drop(['source','home_zone'],axis = 1,inplace = True)\n",
    "df[['avg_bonus','total_bonus']].fillna(0,inplace=True)\n",
    "df.fillna(df.mean(),inplace=True)"
   ]
  },
  {
   "cell_type": "code",
   "execution_count": null,
   "metadata": {
    "colab": {
     "base_uri": "https://localhost:8080/",
     "height": 119
    },
    "id": "-nRCM6uwi3N4",
    "outputId": "64fa725e-74d5-4279-a777-a358fc118136"
   },
   "outputs": [
    {
     "data": {
      "text/plain": [
       "0    8858\n",
       "1    4804\n",
       "Name: defaulter, dtype: int64"
      ]
     },
     "metadata": {
      "tags": []
     },
     "output_type": "display_data"
    },
    {
     "data": {
      "text/plain": [
       "1    4804\n",
       "0    4783\n",
       "Name: defaulter, dtype: int64"
      ]
     },
     "metadata": {
      "tags": []
     },
     "output_type": "display_data"
    }
   ],
   "source": [
    "\n",
    "# Separate majority and minority classes\n",
    "\n",
    "# df = df_full\n",
    "df_majority = df[df.defaulter==0]\n",
    "df_minority = df[df.defaulter==1]\n",
    " \n",
    "# Downsample majority class\n",
    "df_majority_downsampled = resample(df_majority, \n",
    "                                 replace=False,    # sample without replacement\n",
    "                                 n_samples=4783,     # to match minority class\n",
    "                                 random_state=123) # reproducible results\n",
    " \n",
    "# Combine minority class with downsampled majority class\n",
    "df_downsampled = pd.concat([df_majority_downsampled, df_minority])\n",
    " \n",
    "# Display new class counts\n",
    "display(df.defaulter.value_counts(), df_downsampled.defaulter.value_counts())"
   ]
  },
  {
   "cell_type": "code",
   "execution_count": null,
   "metadata": {
    "id": "CJISJf9HjvQl"
   },
   "outputs": [],
   "source": [
    "#Creating another copy\n",
    "df_full = df\n",
    "df = df_downsampled"
   ]
  },
  {
   "cell_type": "code",
   "execution_count": null,
   "metadata": {
    "id": "oZtVKAAbbzFd"
   },
   "outputs": [],
   "source": [
    "#Factoring Age of the driver and creating X and Y\n",
    "X = df[df.AGE >= 18]\n",
    "y = df[df.AGE >= 18].loc[:, 'defaulter']"
   ]
  },
  {
   "cell_type": "code",
   "execution_count": null,
   "metadata": {
    "id": "XveWwNOjUnjY"
   },
   "outputs": [],
   "source": [
    "X['KHI'] = 0\n",
    "X.loc[X['city_code'] == 'KHI', 'KHI'] = 1\n",
    "X['RWP'] = 0\n",
    "X.loc[X['city_code'] == 'RWP', 'RWP'] = 1\n",
    "X['LHR'] = 0\n",
    "X.loc[X['city_code'] == 'LHR', 'LHR'] = 1"
   ]
  },
  {
   "cell_type": "code",
   "execution_count": null,
   "metadata": {
    "colab": {
     "base_uri": "https://localhost:8080/",
     "height": 311
    },
    "id": "PVgHrhI5ZPeY",
    "outputId": "0967be34-b95c-4e21-9402-c1f8978286e3"
   },
   "outputs": [
    {
     "data": {
      "text/html": [
       "<div>\n",
       "<style scoped>\n",
       "    .dataframe tbody tr th:only-of-type {\n",
       "        vertical-align: middle;\n",
       "    }\n",
       "\n",
       "    .dataframe tbody tr th {\n",
       "        vertical-align: top;\n",
       "    }\n",
       "\n",
       "    .dataframe thead th {\n",
       "        text-align: right;\n",
       "    }\n",
       "</style>\n",
       "<table border=\"1\" class=\"dataframe\">\n",
       "  <thead>\n",
       "    <tr style=\"text-align: right;\">\n",
       "      <th></th>\n",
       "      <th>AGE</th>\n",
       "      <th>Trips</th>\n",
       "      <th>Recency</th>\n",
       "      <th>frequency</th>\n",
       "      <th>avg_h</th>\n",
       "      <th>working_perc</th>\n",
       "      <th>non_sawari</th>\n",
       "      <th>freq_work_days</th>\n",
       "      <th>monetory</th>\n",
       "      <th>FF</th>\n",
       "      <th>low_rated</th>\n",
       "      <th>avg_rating</th>\n",
       "      <th>ratings_given</th>\n",
       "      <th>promo_rides</th>\n",
       "      <th>wallet_rides</th>\n",
       "      <th>fake_dist</th>\n",
       "      <th>pickup_avg</th>\n",
       "      <th>physical_loc</th>\n",
       "      <th>zero_km</th>\n",
       "      <th>avg_trip_dist</th>\n",
       "      <th>avg_trip_time</th>\n",
       "      <th>avg_trip_speed</th>\n",
       "      <th>users</th>\n",
       "      <th>dd</th>\n",
       "      <th>net_busy</th>\n",
       "      <th>fake_imei</th>\n",
       "      <th>Low_rating_perc</th>\n",
       "      <th>ratings_perc</th>\n",
       "      <th>promo_rides_perc</th>\n",
       "      <th>wallet_rides_perc</th>\n",
       "      <th>physical_loc_perc</th>\n",
       "      <th>fake_dist_perc</th>\n",
       "      <th>zero_km_perc</th>\n",
       "      <th>fake_imei_perc</th>\n",
       "      <th>repeat_users_perc</th>\n",
       "      <th>defaulter</th>\n",
       "      <th>bonus</th>\n",
       "      <th>avg_bonus</th>\n",
       "      <th>total_bonus</th>\n",
       "      <th>limit_reached</th>\n",
       "      <th>net_util</th>\n",
       "    </tr>\n",
       "  </thead>\n",
       "  <tbody>\n",
       "    <tr>\n",
       "      <th>count</th>\n",
       "      <td>14943.000000</td>\n",
       "      <td>14943.000000</td>\n",
       "      <td>14943.000000</td>\n",
       "      <td>14943.000000</td>\n",
       "      <td>14943.000000</td>\n",
       "      <td>14943.000000</td>\n",
       "      <td>14943.000000</td>\n",
       "      <td>14943.000000</td>\n",
       "      <td>14943.000000</td>\n",
       "      <td>14943.000000</td>\n",
       "      <td>14943.000000</td>\n",
       "      <td>14943.000000</td>\n",
       "      <td>14943.000000</td>\n",
       "      <td>14943.000000</td>\n",
       "      <td>14943.000000</td>\n",
       "      <td>14943.000000</td>\n",
       "      <td>14943.000000</td>\n",
       "      <td>14943.000000</td>\n",
       "      <td>14943.000000</td>\n",
       "      <td>14943.000000</td>\n",
       "      <td>14943.000000</td>\n",
       "      <td>14943.000000</td>\n",
       "      <td>14943.000000</td>\n",
       "      <td>14943.000000</td>\n",
       "      <td>14943.000000</td>\n",
       "      <td>14943.000000</td>\n",
       "      <td>14943.000000</td>\n",
       "      <td>14943.000000</td>\n",
       "      <td>14943.000000</td>\n",
       "      <td>14943.000000</td>\n",
       "      <td>14943.000000</td>\n",
       "      <td>14943.000000</td>\n",
       "      <td>14943.000000</td>\n",
       "      <td>14943.000000</td>\n",
       "      <td>14943.000000</td>\n",
       "      <td>14943.000000</td>\n",
       "      <td>14943.000000</td>\n",
       "      <td>14943.000000</td>\n",
       "      <td>14943.000000</td>\n",
       "      <td>14943.000000</td>\n",
       "      <td>14943.000000</td>\n",
       "    </tr>\n",
       "    <tr>\n",
       "      <th>mean</th>\n",
       "      <td>31.349863</td>\n",
       "      <td>283.842000</td>\n",
       "      <td>284.506926</td>\n",
       "      <td>14.162917</td>\n",
       "      <td>14.540297</td>\n",
       "      <td>0.506753</td>\n",
       "      <td>0.137276</td>\n",
       "      <td>25.775680</td>\n",
       "      <td>33344.843271</td>\n",
       "      <td>0.535012</td>\n",
       "      <td>20.225858</td>\n",
       "      <td>4.717436</td>\n",
       "      <td>270.907850</td>\n",
       "      <td>31.141471</td>\n",
       "      <td>60.098307</td>\n",
       "      <td>101.502978</td>\n",
       "      <td>7.082677</td>\n",
       "      <td>35.718463</td>\n",
       "      <td>5.801646</td>\n",
       "      <td>10.311803</td>\n",
       "      <td>23.573381</td>\n",
       "      <td>28.856116</td>\n",
       "      <td>255.424078</td>\n",
       "      <td>0.039886</td>\n",
       "      <td>1.984493</td>\n",
       "      <td>23.869370</td>\n",
       "      <td>0.074312</td>\n",
       "      <td>0.952578</td>\n",
       "      <td>0.113589</td>\n",
       "      <td>0.206203</td>\n",
       "      <td>0.129377</td>\n",
       "      <td>0.322397</td>\n",
       "      <td>0.022522</td>\n",
       "      <td>0.090476</td>\n",
       "      <td>0.919027</td>\n",
       "      <td>0.337482</td>\n",
       "      <td>0.732804</td>\n",
       "      <td>237.970261</td>\n",
       "      <td>6400.565148</td>\n",
       "      <td>0.244212</td>\n",
       "      <td>0.077467</td>\n",
       "    </tr>\n",
       "    <tr>\n",
       "      <th>std</th>\n",
       "      <td>8.952031</td>\n",
       "      <td>312.668199</td>\n",
       "      <td>160.081486</td>\n",
       "      <td>16.105310</td>\n",
       "      <td>2.030703</td>\n",
       "      <td>0.243034</td>\n",
       "      <td>0.119177</td>\n",
       "      <td>17.202389</td>\n",
       "      <td>37711.997204</td>\n",
       "      <td>0.143466</td>\n",
       "      <td>25.810138</td>\n",
       "      <td>0.128774</td>\n",
       "      <td>299.958184</td>\n",
       "      <td>45.345910</td>\n",
       "      <td>90.456592</td>\n",
       "      <td>163.900943</td>\n",
       "      <td>2.201972</td>\n",
       "      <td>48.978760</td>\n",
       "      <td>21.428774</td>\n",
       "      <td>38.114678</td>\n",
       "      <td>5.719348</td>\n",
       "      <td>103.297372</td>\n",
       "      <td>266.255583</td>\n",
       "      <td>0.106656</td>\n",
       "      <td>1.479535</td>\n",
       "      <td>36.895787</td>\n",
       "      <td>0.037007</td>\n",
       "      <td>0.050519</td>\n",
       "      <td>0.108787</td>\n",
       "      <td>0.084640</td>\n",
       "      <td>0.111664</td>\n",
       "      <td>0.166962</td>\n",
       "      <td>0.043340</td>\n",
       "      <td>0.108538</td>\n",
       "      <td>0.097415</td>\n",
       "      <td>0.472867</td>\n",
       "      <td>0.136020</td>\n",
       "      <td>391.395917</td>\n",
       "      <td>12133.782926</td>\n",
       "      <td>0.268437</td>\n",
       "      <td>0.063726</td>\n",
       "    </tr>\n",
       "    <tr>\n",
       "      <th>min</th>\n",
       "      <td>-8.000000</td>\n",
       "      <td>1.000000</td>\n",
       "      <td>95.000000</td>\n",
       "      <td>0.040346</td>\n",
       "      <td>3.309783</td>\n",
       "      <td>0.013986</td>\n",
       "      <td>0.000000</td>\n",
       "      <td>1.166667</td>\n",
       "      <td>127.000000</td>\n",
       "      <td>0.057143</td>\n",
       "      <td>0.000000</td>\n",
       "      <td>1.000000</td>\n",
       "      <td>1.000000</td>\n",
       "      <td>0.000000</td>\n",
       "      <td>0.000000</td>\n",
       "      <td>0.000000</td>\n",
       "      <td>0.000000</td>\n",
       "      <td>0.000000</td>\n",
       "      <td>0.000000</td>\n",
       "      <td>0.235294</td>\n",
       "      <td>0.001976</td>\n",
       "      <td>0.000000</td>\n",
       "      <td>1.000000</td>\n",
       "      <td>0.000000</td>\n",
       "      <td>0.000000</td>\n",
       "      <td>0.000000</td>\n",
       "      <td>0.000000</td>\n",
       "      <td>0.034602</td>\n",
       "      <td>0.000000</td>\n",
       "      <td>0.000000</td>\n",
       "      <td>0.000000</td>\n",
       "      <td>0.000000</td>\n",
       "      <td>0.000000</td>\n",
       "      <td>0.000000</td>\n",
       "      <td>0.000452</td>\n",
       "      <td>0.000000</td>\n",
       "      <td>0.100000</td>\n",
       "      <td>0.000000</td>\n",
       "      <td>0.000000</td>\n",
       "      <td>0.000000</td>\n",
       "      <td>0.000000</td>\n",
       "    </tr>\n",
       "    <tr>\n",
       "      <th>25%</th>\n",
       "      <td>26.000000</td>\n",
       "      <td>123.000000</td>\n",
       "      <td>150.000000</td>\n",
       "      <td>5.473066</td>\n",
       "      <td>13.207449</td>\n",
       "      <td>0.310733</td>\n",
       "      <td>0.050000</td>\n",
       "      <td>16.722222</td>\n",
       "      <td>13985.500000</td>\n",
       "      <td>0.439065</td>\n",
       "      <td>8.000000</td>\n",
       "      <td>4.657736</td>\n",
       "      <td>117.000000</td>\n",
       "      <td>7.000000</td>\n",
       "      <td>23.000000</td>\n",
       "      <td>31.000000</td>\n",
       "      <td>5.681505</td>\n",
       "      <td>2.000000</td>\n",
       "      <td>1.000000</td>\n",
       "      <td>8.741018</td>\n",
       "      <td>20.792266</td>\n",
       "      <td>25.010001</td>\n",
       "      <td>113.000000</td>\n",
       "      <td>0.000000</td>\n",
       "      <td>1.016667</td>\n",
       "      <td>7.000000</td>\n",
       "      <td>0.051724</td>\n",
       "      <td>0.940594</td>\n",
       "      <td>0.039024</td>\n",
       "      <td>0.160000</td>\n",
       "      <td>0.011494</td>\n",
       "      <td>0.212500</td>\n",
       "      <td>0.004831</td>\n",
       "      <td>0.043478</td>\n",
       "      <td>0.903473</td>\n",
       "      <td>0.000000</td>\n",
       "      <td>0.666667</td>\n",
       "      <td>41.968661</td>\n",
       "      <td>1050.000000</td>\n",
       "      <td>0.018519</td>\n",
       "      <td>0.035223</td>\n",
       "    </tr>\n",
       "    <tr>\n",
       "      <th>50%</th>\n",
       "      <td>30.000000</td>\n",
       "      <td>182.000000</td>\n",
       "      <td>247.000000</td>\n",
       "      <td>10.566038</td>\n",
       "      <td>14.584314</td>\n",
       "      <td>0.497630</td>\n",
       "      <td>0.118971</td>\n",
       "      <td>23.115108</td>\n",
       "      <td>20665.000000</td>\n",
       "      <td>0.543233</td>\n",
       "      <td>13.000000</td>\n",
       "      <td>4.733533</td>\n",
       "      <td>173.000000</td>\n",
       "      <td>16.000000</td>\n",
       "      <td>37.000000</td>\n",
       "      <td>55.000000</td>\n",
       "      <td>6.844595</td>\n",
       "      <td>23.000000</td>\n",
       "      <td>3.000000</td>\n",
       "      <td>9.758687</td>\n",
       "      <td>23.330097</td>\n",
       "      <td>27.019825</td>\n",
       "      <td>166.000000</td>\n",
       "      <td>0.007673</td>\n",
       "      <td>1.800000</td>\n",
       "      <td>14.000000</td>\n",
       "      <td>0.069767</td>\n",
       "      <td>0.961749</td>\n",
       "      <td>0.070707</td>\n",
       "      <td>0.200000</td>\n",
       "      <td>0.125000</td>\n",
       "      <td>0.300000</td>\n",
       "      <td>0.012121</td>\n",
       "      <td>0.069444</td>\n",
       "      <td>0.945312</td>\n",
       "      <td>0.000000</td>\n",
       "      <td>0.750000</td>\n",
       "      <td>120.636364</td>\n",
       "      <td>2786.000000</td>\n",
       "      <td>0.134328</td>\n",
       "      <td>0.064818</td>\n",
       "    </tr>\n",
       "    <tr>\n",
       "      <th>75%</th>\n",
       "      <td>36.000000</td>\n",
       "      <td>316.000000</td>\n",
       "      <td>379.000000</td>\n",
       "      <td>18.699138</td>\n",
       "      <td>15.918231</td>\n",
       "      <td>0.692308</td>\n",
       "      <td>0.194653</td>\n",
       "      <td>31.365385</td>\n",
       "      <td>36742.000000</td>\n",
       "      <td>0.636797</td>\n",
       "      <td>23.000000</td>\n",
       "      <td>4.795455</td>\n",
       "      <td>302.000000</td>\n",
       "      <td>37.000000</td>\n",
       "      <td>67.000000</td>\n",
       "      <td>109.000000</td>\n",
       "      <td>8.233263</td>\n",
       "      <td>47.000000</td>\n",
       "      <td>6.000000</td>\n",
       "      <td>10.724753</td>\n",
       "      <td>25.952978</td>\n",
       "      <td>29.092833</td>\n",
       "      <td>288.000000</td>\n",
       "      <td>0.033088</td>\n",
       "      <td>2.700000</td>\n",
       "      <td>26.000000</td>\n",
       "      <td>0.091603</td>\n",
       "      <td>0.976630</td>\n",
       "      <td>0.163986</td>\n",
       "      <td>0.238056</td>\n",
       "      <td>0.215190</td>\n",
       "      <td>0.401786</td>\n",
       "      <td>0.025862</td>\n",
       "      <td>0.103053</td>\n",
       "      <td>0.970588</td>\n",
       "      <td>1.000000</td>\n",
       "      <td>0.823529</td>\n",
       "      <td>271.428571</td>\n",
       "      <td>6627.000000</td>\n",
       "      <td>0.417391</td>\n",
       "      <td>0.103216</td>\n",
       "    </tr>\n",
       "    <tr>\n",
       "      <th>max</th>\n",
       "      <td>69.000000</td>\n",
       "      <td>5603.000000</td>\n",
       "      <td>772.000000</td>\n",
       "      <td>700.000000</td>\n",
       "      <td>20.907923</td>\n",
       "      <td>2.000000</td>\n",
       "      <td>1.000000</td>\n",
       "      <td>525.000000</td>\n",
       "      <td>896705.000000</td>\n",
       "      <td>1.000000</td>\n",
       "      <td>605.000000</td>\n",
       "      <td>5.000000</td>\n",
       "      <td>5401.000000</td>\n",
       "      <td>840.000000</td>\n",
       "      <td>3696.000000</td>\n",
       "      <td>4592.000000</td>\n",
       "      <td>37.000000</td>\n",
       "      <td>661.000000</td>\n",
       "      <td>918.000000</td>\n",
       "      <td>4071.000000</td>\n",
       "      <td>267.818182</td>\n",
       "      <td>8599.978429</td>\n",
       "      <td>5065.000000</td>\n",
       "      <td>1.000000</td>\n",
       "      <td>55.783333</td>\n",
       "      <td>989.000000</td>\n",
       "      <td>1.000000</td>\n",
       "      <td>1.250000</td>\n",
       "      <td>1.000000</td>\n",
       "      <td>1.000000</td>\n",
       "      <td>1.000000</td>\n",
       "      <td>3.565041</td>\n",
       "      <td>0.919831</td>\n",
       "      <td>2.978495</td>\n",
       "      <td>1.000000</td>\n",
       "      <td>1.000000</td>\n",
       "      <td>1.000000</td>\n",
       "      <td>5733.333333</td>\n",
       "      <td>394602.000000</td>\n",
       "      <td>1.000000</td>\n",
       "      <td>0.946727</td>\n",
       "    </tr>\n",
       "  </tbody>\n",
       "</table>\n",
       "</div>"
      ],
      "text/plain": [
       "                AGE         Trips  ...  limit_reached      net_util\n",
       "count  14943.000000  14943.000000  ...   14943.000000  14943.000000\n",
       "mean      31.349863    283.842000  ...       0.244212      0.077467\n",
       "std        8.952031    312.668199  ...       0.268437      0.063726\n",
       "min       -8.000000      1.000000  ...       0.000000      0.000000\n",
       "25%       26.000000    123.000000  ...       0.018519      0.035223\n",
       "50%       30.000000    182.000000  ...       0.134328      0.064818\n",
       "75%       36.000000    316.000000  ...       0.417391      0.103216\n",
       "max       69.000000   5603.000000  ...       1.000000      0.946727\n",
       "\n",
       "[8 rows x 41 columns]"
      ]
     },
     "execution_count": 35,
     "metadata": {
      "tags": []
     },
     "output_type": "execute_result"
    }
   ],
   "source": [
    "X.describe()"
   ]
  },
  {
   "cell_type": "code",
   "execution_count": null,
   "metadata": {
    "id": "6BGaJS6sWxq3"
   },
   "outputs": [],
   "source": [
    "#Furture Dropping\n",
    "df2 = df.drop(['city_code','net_busy','limit_reached','_id','driver_id', 'model_number','smartphone_brand','smartphone_model','city','Recency', 'promo_rides','ratings_given','low_rated','license_type','Last_date','Start', 'fake_dist',\t'physical_loc',\t'zero_km',\t'fake_imei','users','wallet_rides'\t],axis = 1)\n",
    "import scipy.stats as stats\n",
    "import numpy as np\n",
    "z_scores = stats.zscore(df2)\n",
    "abs_z_scores = np.abs(z_scores)\n",
    "filtered_entries = (abs_z_scores < 3).all(axis=1)"
   ]
  },
  {
   "cell_type": "code",
   "execution_count": null,
   "metadata": {
    "id": "-1mi_9ZKY4-4"
   },
   "outputs": [],
   "source": [
    "#Excluding predicor variable from training dataset\n",
    "X = df2.drop('defaulter', axis = 1 )\n",
    "y = df2.loc[:, 'defaulter']"
   ]
  },
  {
   "cell_type": "code",
   "execution_count": null,
   "metadata": {
    "id": "fu2ZcN9HgB57"
   },
   "outputs": [],
   "source": [
    "#Splitting data into train test split\n",
    "from sklearn.model_selection import train_test_split\n",
    "X_train, X_test, y_train, y_test = train_test_split(X, y, test_size=0.3, random_state=0)"
   ]
  },
  {
   "cell_type": "code",
   "execution_count": null,
   "metadata": {
    "colab": {
     "base_uri": "https://localhost:8080/",
     "height": 317
    },
    "id": "MJtKv8BvNv3_",
    "outputId": "d3255f3f-3031-49e7-86ff-4fe95d081d86"
   },
   "outputs": [
    {
     "data": {
      "text/html": [
       "<div>\n",
       "<style scoped>\n",
       "    .dataframe tbody tr th:only-of-type {\n",
       "        vertical-align: middle;\n",
       "    }\n",
       "\n",
       "    .dataframe tbody tr th {\n",
       "        vertical-align: top;\n",
       "    }\n",
       "\n",
       "    .dataframe thead th {\n",
       "        text-align: right;\n",
       "    }\n",
       "</style>\n",
       "<table border=\"1\" class=\"dataframe\">\n",
       "  <thead>\n",
       "    <tr style=\"text-align: right;\">\n",
       "      <th></th>\n",
       "      <th>AGE</th>\n",
       "      <th>Trips</th>\n",
       "      <th>frequency</th>\n",
       "      <th>avg_h</th>\n",
       "      <th>working_perc</th>\n",
       "      <th>non_sawari</th>\n",
       "      <th>freq_work_days</th>\n",
       "      <th>monetory</th>\n",
       "      <th>FF</th>\n",
       "      <th>avg_rating</th>\n",
       "      <th>pickup_avg</th>\n",
       "      <th>avg_trip_dist</th>\n",
       "      <th>avg_trip_time</th>\n",
       "      <th>avg_trip_speed</th>\n",
       "      <th>dd</th>\n",
       "      <th>Low_rating_perc</th>\n",
       "      <th>ratings_perc</th>\n",
       "      <th>promo_rides_perc</th>\n",
       "      <th>wallet_rides_perc</th>\n",
       "      <th>physical_loc_perc</th>\n",
       "      <th>fake_dist_perc</th>\n",
       "      <th>zero_km_perc</th>\n",
       "      <th>fake_imei_perc</th>\n",
       "      <th>repeat_users_perc</th>\n",
       "      <th>bonus</th>\n",
       "      <th>avg_bonus</th>\n",
       "      <th>total_bonus</th>\n",
       "      <th>activehours_delta</th>\n",
       "      <th>ff_delta</th>\n",
       "      <th>accp_delta</th>\n",
       "    </tr>\n",
       "  </thead>\n",
       "  <tbody>\n",
       "    <tr>\n",
       "      <th>count</th>\n",
       "      <td>9563.000000</td>\n",
       "      <td>9563.000000</td>\n",
       "      <td>9563.000000</td>\n",
       "      <td>9563.000000</td>\n",
       "      <td>9563.000000</td>\n",
       "      <td>9563.000000</td>\n",
       "      <td>9563.000000</td>\n",
       "      <td>9563.000000</td>\n",
       "      <td>9563.000000</td>\n",
       "      <td>9563.000000</td>\n",
       "      <td>9563.000000</td>\n",
       "      <td>9563.000000</td>\n",
       "      <td>9563.000000</td>\n",
       "      <td>9563.000000</td>\n",
       "      <td>9563.000000</td>\n",
       "      <td>9563.000000</td>\n",
       "      <td>9563.000000</td>\n",
       "      <td>9563.000000</td>\n",
       "      <td>9563.000000</td>\n",
       "      <td>9563.000000</td>\n",
       "      <td>9563.000000</td>\n",
       "      <td>9563.000000</td>\n",
       "      <td>9563.000000</td>\n",
       "      <td>9563.000000</td>\n",
       "      <td>9563.000000</td>\n",
       "      <td>9563.000000</td>\n",
       "      <td>9563.000000</td>\n",
       "      <td>9563.000000</td>\n",
       "      <td>9563.000000</td>\n",
       "      <td>9563.000000</td>\n",
       "    </tr>\n",
       "    <tr>\n",
       "      <th>mean</th>\n",
       "      <td>32.334637</td>\n",
       "      <td>279.840636</td>\n",
       "      <td>16.358650</td>\n",
       "      <td>14.588513</td>\n",
       "      <td>0.543553</td>\n",
       "      <td>0.147524</td>\n",
       "      <td>30.624778</td>\n",
       "      <td>32693.978981</td>\n",
       "      <td>0.536887</td>\n",
       "      <td>4.714604</td>\n",
       "      <td>7.073671</td>\n",
       "      <td>10.628275</td>\n",
       "      <td>23.500761</td>\n",
       "      <td>29.681311</td>\n",
       "      <td>0.035915</td>\n",
       "      <td>0.075188</td>\n",
       "      <td>0.948471</td>\n",
       "      <td>0.107522</td>\n",
       "      <td>0.204748</td>\n",
       "      <td>0.131016</td>\n",
       "      <td>0.328079</td>\n",
       "      <td>0.027013</td>\n",
       "      <td>0.094971</td>\n",
       "      <td>0.916226</td>\n",
       "      <td>0.724220</td>\n",
       "      <td>250.549514</td>\n",
       "      <td>6366.638715</td>\n",
       "      <td>-0.582664</td>\n",
       "      <td>0.586082</td>\n",
       "      <td>-0.405104</td>\n",
       "    </tr>\n",
       "    <tr>\n",
       "      <th>std</th>\n",
       "      <td>9.072396</td>\n",
       "      <td>316.102516</td>\n",
       "      <td>26.277565</td>\n",
       "      <td>2.008585</td>\n",
       "      <td>0.318347</td>\n",
       "      <td>0.143194</td>\n",
       "      <td>26.226549</td>\n",
       "      <td>37710.706658</td>\n",
       "      <td>0.149661</td>\n",
       "      <td>0.143914</td>\n",
       "      <td>2.358961</td>\n",
       "      <td>50.128692</td>\n",
       "      <td>5.481635</td>\n",
       "      <td>129.422722</td>\n",
       "      <td>0.099736</td>\n",
       "      <td>0.040165</td>\n",
       "      <td>0.088904</td>\n",
       "      <td>0.107940</td>\n",
       "      <td>0.089860</td>\n",
       "      <td>0.114998</td>\n",
       "      <td>0.184738</td>\n",
       "      <td>0.064559</td>\n",
       "      <td>0.116060</td>\n",
       "      <td>0.102860</td>\n",
       "      <td>0.151796</td>\n",
       "      <td>411.939577</td>\n",
       "      <td>11903.105219</td>\n",
       "      <td>1.716560</td>\n",
       "      <td>9.802714</td>\n",
       "      <td>10.589045</td>\n",
       "    </tr>\n",
       "    <tr>\n",
       "      <th>min</th>\n",
       "      <td>-7.000000</td>\n",
       "      <td>1.000000</td>\n",
       "      <td>0.145833</td>\n",
       "      <td>4.817490</td>\n",
       "      <td>0.033528</td>\n",
       "      <td>0.000000</td>\n",
       "      <td>7.000000</td>\n",
       "      <td>50.000000</td>\n",
       "      <td>0.057143</td>\n",
       "      <td>1.000000</td>\n",
       "      <td>0.000000</td>\n",
       "      <td>0.000000</td>\n",
       "      <td>0.000000</td>\n",
       "      <td>0.000000</td>\n",
       "      <td>0.000000</td>\n",
       "      <td>0.000000</td>\n",
       "      <td>0.000000</td>\n",
       "      <td>0.000000</td>\n",
       "      <td>0.000000</td>\n",
       "      <td>0.000000</td>\n",
       "      <td>0.000000</td>\n",
       "      <td>0.000000</td>\n",
       "      <td>0.000000</td>\n",
       "      <td>0.000452</td>\n",
       "      <td>0.000000</td>\n",
       "      <td>0.000000</td>\n",
       "      <td>0.000000</td>\n",
       "      <td>-10.018852</td>\n",
       "      <td>-65.521333</td>\n",
       "      <td>-53.122000</td>\n",
       "    </tr>\n",
       "    <tr>\n",
       "      <th>25%</th>\n",
       "      <td>27.000000</td>\n",
       "      <td>121.000000</td>\n",
       "      <td>6.152370</td>\n",
       "      <td>13.303552</td>\n",
       "      <td>0.340684</td>\n",
       "      <td>0.053846</td>\n",
       "      <td>20.250000</td>\n",
       "      <td>13763.500000</td>\n",
       "      <td>0.436737</td>\n",
       "      <td>4.655570</td>\n",
       "      <td>5.655404</td>\n",
       "      <td>8.698669</td>\n",
       "      <td>20.816625</td>\n",
       "      <td>24.921362</td>\n",
       "      <td>0.000000</td>\n",
       "      <td>0.051852</td>\n",
       "      <td>0.943662</td>\n",
       "      <td>0.036866</td>\n",
       "      <td>0.157635</td>\n",
       "      <td>0.009174</td>\n",
       "      <td>0.210209</td>\n",
       "      <td>0.004831</td>\n",
       "      <td>0.042709</td>\n",
       "      <td>0.901230</td>\n",
       "      <td>0.666667</td>\n",
       "      <td>40.703676</td>\n",
       "      <td>920.500000</td>\n",
       "      <td>-1.518389</td>\n",
       "      <td>-4.917667</td>\n",
       "      <td>-6.348333</td>\n",
       "    </tr>\n",
       "    <tr>\n",
       "      <th>50%</th>\n",
       "      <td>31.000000</td>\n",
       "      <td>176.000000</td>\n",
       "      <td>11.676289</td>\n",
       "      <td>14.610942</td>\n",
       "      <td>0.534591</td>\n",
       "      <td>0.124535</td>\n",
       "      <td>26.551724</td>\n",
       "      <td>20085.000000</td>\n",
       "      <td>0.543524</td>\n",
       "      <td>4.731132</td>\n",
       "      <td>6.861635</td>\n",
       "      <td>9.747826</td>\n",
       "      <td>23.428571</td>\n",
       "      <td>26.940066</td>\n",
       "      <td>0.006303</td>\n",
       "      <td>0.070352</td>\n",
       "      <td>0.964286</td>\n",
       "      <td>0.064706</td>\n",
       "      <td>0.197917</td>\n",
       "      <td>0.125000</td>\n",
       "      <td>0.299107</td>\n",
       "      <td>0.012308</td>\n",
       "      <td>0.074468</td>\n",
       "      <td>0.944099</td>\n",
       "      <td>0.750000</td>\n",
       "      <td>123.076923</td>\n",
       "      <td>2750.000000</td>\n",
       "      <td>-0.577704</td>\n",
       "      <td>0.604528</td>\n",
       "      <td>-0.366022</td>\n",
       "    </tr>\n",
       "    <tr>\n",
       "      <th>75%</th>\n",
       "      <td>37.000000</td>\n",
       "      <td>309.500000</td>\n",
       "      <td>20.451029</td>\n",
       "      <td>15.942731</td>\n",
       "      <td>0.728814</td>\n",
       "      <td>0.200000</td>\n",
       "      <td>35.000000</td>\n",
       "      <td>35760.000000</td>\n",
       "      <td>0.639007</td>\n",
       "      <td>4.795699</td>\n",
       "      <td>8.302998</td>\n",
       "      <td>10.737878</td>\n",
       "      <td>26.060880</td>\n",
       "      <td>29.041035</td>\n",
       "      <td>0.029130</td>\n",
       "      <td>0.092391</td>\n",
       "      <td>0.978272</td>\n",
       "      <td>0.150538</td>\n",
       "      <td>0.237050</td>\n",
       "      <td>0.220339</td>\n",
       "      <td>0.406622</td>\n",
       "      <td>0.026712</td>\n",
       "      <td>0.112069</td>\n",
       "      <td>0.969941</td>\n",
       "      <td>0.818182</td>\n",
       "      <td>283.515064</td>\n",
       "      <td>6503.000000</td>\n",
       "      <td>0.371815</td>\n",
       "      <td>5.814738</td>\n",
       "      <td>5.466667</td>\n",
       "    </tr>\n",
       "    <tr>\n",
       "      <th>max</th>\n",
       "      <td>70.000000</td>\n",
       "      <td>5274.000000</td>\n",
       "      <td>1421.000000</td>\n",
       "      <td>20.907923</td>\n",
       "      <td>19.000000</td>\n",
       "      <td>1.000000</td>\n",
       "      <td>710.500000</td>\n",
       "      <td>896705.000000</td>\n",
       "      <td>1.000000</td>\n",
       "      <td>5.000000</td>\n",
       "      <td>37.000000</td>\n",
       "      <td>4071.000000</td>\n",
       "      <td>113.234043</td>\n",
       "      <td>8599.978429</td>\n",
       "      <td>1.000000</td>\n",
       "      <td>1.000000</td>\n",
       "      <td>1.333333</td>\n",
       "      <td>1.000000</td>\n",
       "      <td>1.000000</td>\n",
       "      <td>0.827839</td>\n",
       "      <td>3.302158</td>\n",
       "      <td>1.000000</td>\n",
       "      <td>3.014337</td>\n",
       "      <td>1.000000</td>\n",
       "      <td>1.000000</td>\n",
       "      <td>5733.333333</td>\n",
       "      <td>249200.000000</td>\n",
       "      <td>12.738889</td>\n",
       "      <td>54.775333</td>\n",
       "      <td>60.614000</td>\n",
       "    </tr>\n",
       "  </tbody>\n",
       "</table>\n",
       "</div>"
      ],
      "text/plain": [
       "               AGE        Trips  ...     ff_delta   accp_delta\n",
       "count  9563.000000  9563.000000  ...  9563.000000  9563.000000\n",
       "mean     32.334637   279.840636  ...     0.586082    -0.405104\n",
       "std       9.072396   316.102516  ...     9.802714    10.589045\n",
       "min      -7.000000     1.000000  ...   -65.521333   -53.122000\n",
       "25%      27.000000   121.000000  ...    -4.917667    -6.348333\n",
       "50%      31.000000   176.000000  ...     0.604528    -0.366022\n",
       "75%      37.000000   309.500000  ...     5.814738     5.466667\n",
       "max      70.000000  5274.000000  ...    54.775333    60.614000\n",
       "\n",
       "[8 rows x 30 columns]"
      ]
     },
     "execution_count": 14,
     "metadata": {
      "tags": []
     },
     "output_type": "execute_result"
    }
   ],
   "source": [
    "X_train.describe()"
   ]
  },
  {
   "cell_type": "code",
   "execution_count": null,
   "metadata": {
    "colab": {
     "base_uri": "https://localhost:8080/"
    },
    "id": "Videjfy3lUvn",
    "outputId": "b5a33061-600c-454b-943c-c2f79375ef7c"
   },
   "outputs": [
    {
     "name": "stderr",
     "output_type": "stream",
     "text": [
      "/usr/local/lib/python3.7/dist-packages/pandas/core/series.py:4536: SettingWithCopyWarning: \n",
      "A value is trying to be set on a copy of a slice from a DataFrame\n",
      "\n",
      "See the caveats in the documentation: https://pandas.pydata.org/pandas-docs/stable/user_guide/indexing.html#returning-a-view-versus-a-copy\n",
      "  downcast=downcast,\n"
     ]
    },
    {
     "data": {
      "text/plain": [
       "AGE                  0\n",
       "Trips                0\n",
       "frequency            0\n",
       "avg_h                0\n",
       "working_perc         0\n",
       "non_sawari           0\n",
       "freq_work_days       0\n",
       "monetory             0\n",
       "FF                   0\n",
       "avg_rating           0\n",
       "pickup_avg           0\n",
       "avg_trip_dist        0\n",
       "avg_trip_time        0\n",
       "avg_trip_speed       0\n",
       "dd                   0\n",
       "Low_rating_perc      0\n",
       "ratings_perc         0\n",
       "promo_rides_perc     0\n",
       "wallet_rides_perc    0\n",
       "physical_loc_perc    0\n",
       "fake_dist_perc       0\n",
       "zero_km_perc         0\n",
       "fake_imei_perc       0\n",
       "repeat_users_perc    0\n",
       "bonus                0\n",
       "avg_bonus            0\n",
       "total_bonus          0\n",
       "activehours_delta    0\n",
       "ff_delta             0\n",
       "accp_delta           0\n",
       "dtype: int64"
      ]
     },
     "execution_count": 13,
     "metadata": {
      "tags": []
     },
     "output_type": "execute_result"
    }
   ],
   "source": [
    "#Replacing Null with median\n",
    "X_test.fillna(X_test.median(), inplace = True)\n",
    "X_train.fillna(X_train.median(), inplace = True)\n",
    "#check for nulls\n",
    "X_test.isnull().sum()"
   ]
  },
  {
   "cell_type": "code",
   "execution_count": null,
   "metadata": {
    "colab": {
     "base_uri": "https://localhost:8080/",
     "height": 187
    },
    "id": "y0Bs9waf2Z3q",
    "outputId": "935ef0ef-7b4b-4dfe-82e8-bead145d9238"
   },
   "outputs": [
    {
     "name": "stderr",
     "output_type": "stream",
     "text": [
      "[Parallel(n_jobs=-1)]: Using backend ThreadingBackend with 4 concurrent workers.\n",
      "[Parallel(n_jobs=-1)]: Done  42 tasks      | elapsed:    0.6s\n",
      "[Parallel(n_jobs=-1)]: Done 192 tasks      | elapsed:    2.4s\n",
      "[Parallel(n_jobs=-1)]: Done 442 tasks      | elapsed:    5.5s\n",
      "[Parallel(n_jobs=-1)]: Done 500 out of 500 | elapsed:    6.3s finished\n"
     ]
    },
    {
     "data": {
      "text/plain": [
       "10"
      ]
     },
     "metadata": {
      "tags": []
     },
     "output_type": "display_data"
    },
    {
     "data": {
      "text/plain": [
       "Index(['non_sawari', 'freq_work_days', 'FF', 'avg_trip_time', 'ratings_perc',\n",
       "       'promo_rides_perc', 'physical_loc_perc', 'bonus', 'avg_bonus',\n",
       "       'total_bonus'],\n",
       "      dtype='object')"
      ]
     },
     "metadata": {
      "tags": []
     },
     "output_type": "display_data"
    }
   ],
   "source": [
    "#Model Traing Trial 1\n",
    "# Create the model with 500 trees\n",
    "from sklearn.feature_selection import SelectFromModel\n",
    "from sklearn.ensemble import RandomForestClassifier\n",
    "\n",
    "sel = SelectFromModel(RandomForestClassifier(n_estimators=500, \n",
    "                               bootstrap = True,\n",
    "                               max_features = 'auto',\n",
    "                               class_weight=\"balanced\",\n",
    "                               n_jobs=-1, verbose = 1))\n",
    "sel.fit(X_train, y_train)\n",
    "selected_feat= X_train.columns[(sel.get_support())]\n",
    "display(len(selected_feat), selected_feat)"
   ]
  },
  {
   "cell_type": "code",
   "execution_count": null,
   "metadata": {
    "id": "Ed6zWvX9O7vU"
   },
   "outputs": [],
   "source": [
    "selected_feat = ['non_sawari', 'freq_work_days', 'FF', 'avg_trip_time', 'ratings_perc',\n",
    "       'promo_rides_perc', 'physical_loc_perc', 'bonus', 'avg_bonus',\n",
    "       'total_bonus']\n",
    "\n",
    "\n",
    "X_train = X_train[selected_feat]\n",
    "\n",
    "X_test = X_test[selected_feat]\n",
    "\n"
   ]
  },
  {
   "cell_type": "code",
   "execution_count": null,
   "metadata": {
    "colab": {
     "base_uri": "https://localhost:8080/"
    },
    "id": "nH6yc4n2gRrV",
    "outputId": "95ba8138-c66b-418c-b9f8-fd4e6978d6d4"
   },
   "outputs": [
    {
     "name": "stderr",
     "output_type": "stream",
     "text": [
      "[Parallel(n_jobs=-1)]: Using backend ThreadingBackend with 4 concurrent workers.\n",
      "[Parallel(n_jobs=-1)]: Done  42 tasks      | elapsed:    0.4s\n",
      "[Parallel(n_jobs=-1)]: Done 192 tasks      | elapsed:    1.5s\n",
      "[Parallel(n_jobs=-1)]: Done 442 tasks      | elapsed:    3.5s\n",
      "[Parallel(n_jobs=-1)]: Done 500 out of 500 | elapsed:    4.0s finished\n"
     ]
    },
    {
     "data": {
      "text/plain": [
       "RandomForestClassifier(bootstrap=True, ccp_alpha=0.0, class_weight='balanced',\n",
       "                       criterion='gini', max_depth=None, max_features='auto',\n",
       "                       max_leaf_nodes=None, max_samples=None,\n",
       "                       min_impurity_decrease=0.0, min_impurity_split=None,\n",
       "                       min_samples_leaf=1, min_samples_split=2,\n",
       "                       min_weight_fraction_leaf=0.0, n_estimators=500,\n",
       "                       n_jobs=-1, oob_score=False, random_state=None, verbose=1,\n",
       "                       warm_start=False)"
      ]
     },
     "execution_count": 16,
     "metadata": {
      "tags": []
     },
     "output_type": "execute_result"
    }
   ],
   "source": [
    "#Model Traing Trial 2\n",
    "# Create the model with 1000 trees\n",
    "from sklearn.feature_selection import SelectFromModel\n",
    "from sklearn.ensemble import RandomForestClassifier\n",
    "model = RandomForestClassifier(n_estimators=1000, \n",
    "                               bootstrap = True,\n",
    "                               max_features = 'auto',\n",
    "                               class_weight=\"balanced\",\n",
    "                               n_jobs=-1, verbose = 1)\n",
    "# Fit on training data\n",
    "model.fit(X_train, y_train)"
   ]
  },
  {
   "cell_type": "code",
   "execution_count": null,
   "metadata": {
    "colab": {
     "base_uri": "https://localhost:8080/"
    },
    "id": "Wc_6GauJhR2R",
    "outputId": "9908e511-947b-4b34-b439-3344ceac0706"
   },
   "outputs": [
    {
     "name": "stderr",
     "output_type": "stream",
     "text": [
      "[Parallel(n_jobs=4)]: Using backend ThreadingBackend with 4 concurrent workers.\n",
      "[Parallel(n_jobs=4)]: Done  42 tasks      | elapsed:    0.0s\n",
      "[Parallel(n_jobs=4)]: Done 192 tasks      | elapsed:    0.1s\n",
      "[Parallel(n_jobs=4)]: Done 442 tasks      | elapsed:    0.2s\n",
      "[Parallel(n_jobs=4)]: Done 500 out of 500 | elapsed:    0.2s finished\n",
      "[Parallel(n_jobs=4)]: Using backend ThreadingBackend with 4 concurrent workers.\n",
      "[Parallel(n_jobs=4)]: Done  42 tasks      | elapsed:    0.0s\n",
      "[Parallel(n_jobs=4)]: Done 192 tasks      | elapsed:    0.1s\n",
      "[Parallel(n_jobs=4)]: Done 442 tasks      | elapsed:    0.2s\n",
      "[Parallel(n_jobs=4)]: Done 500 out of 500 | elapsed:    0.2s finished\n"
     ]
    }
   ],
   "source": [
    "rf_predictions = model.predict(X_test)\n",
    "# Probabilities for each class\n",
    "rf_probs = model.predict_proba(X_test)[:, 1]"
   ]
  },
  {
   "cell_type": "code",
   "execution_count": null,
   "metadata": {
    "colab": {
     "base_uri": "https://localhost:8080/"
    },
    "id": "8cQk867Mf4Yh",
    "outputId": "5abca4da-77b5-4b23-bed8-f2e9a2f66a65"
   },
   "outputs": [
    {
     "data": {
      "text/plain": [
       "0.8219101077992077"
      ]
     },
     "execution_count": 18,
     "metadata": {
      "tags": []
     },
     "output_type": "execute_result"
    }
   ],
   "source": [
    "#Checking Performance Using Different Metrics\n",
    "from sklearn.metrics import roc_auc_score\n",
    "# Calculate roc auc\n",
    "roc_value = roc_auc_score(y_test, rf_probs)\n",
    "roc_value"
   ]
  },
  {
   "cell_type": "code",
   "execution_count": null,
   "metadata": {
    "colab": {
     "base_uri": "https://localhost:8080/",
     "height": 282
    },
    "id": "iGsL0hnw-8fF",
    "outputId": "f2d28c98-1f6b-4f97-8601-91d2bf406aa6"
   },
   "outputs": [
    {
     "data": {
      "text/plain": [
       "<matplotlib.axes._subplots.AxesSubplot at 0x7fdab8919790>"
      ]
     },
     "execution_count": 19,
     "metadata": {
      "tags": []
     },
     "output_type": "execute_result"
    },
    {
     "data": {
      "image/png": "[encoded data removed]",
      "text/plain": [
       "<Figure size 432x288 with 1 Axes>"
      ]
     },
     "metadata": {
      "needs_background": "light",
      "tags": []
     },
     "output_type": "display_data"
    }
   ],
   "source": [
    "import numpy as np\n",
    "pd.Series(rf_probs).hist()"
   ]
  },
  {
   "cell_type": "code",
   "execution_count": null,
   "metadata": {
    "colab": {
     "base_uri": "https://localhost:8080/",
     "height": 638
    },
    "id": "qmOpvKJwgBKW",
    "outputId": "b2b60107-e2fd-4e43-b755-2d7c2bc38c98"
   },
   "outputs": [
    {
     "data": {
      "text/plain": [
       "Text(0.5, 1.0, 'predictor Precision-Recall curve: Score =0.73')"
      ]
     },
     "execution_count": 20,
     "metadata": {
      "tags": []
     },
     "output_type": "execute_result"
    },
    {
     "data": {
      "image/png": "[encoded data removed]",
      "text/plain": [
       "<Figure size 1008x720 with 1 Axes>"
      ]
     },
     "metadata": {
      "needs_background": "light",
      "tags": []
     },
     "output_type": "display_data"
    }
   ],
   "source": [
    "\n",
    "from sklearn.metrics import precision_recall_curve\n",
    "import matplotlib.pyplot as plt\n",
    "from inspect import signature\n",
    "from sklearn.metrics import average_precision_score\n",
    "\n",
    "y_pred = rf_probs\n",
    "average_precision = average_precision_score(y_test, y_pred)\n",
    "# average_precision - y_test.mean()\n",
    "precision, recall, _ = precision_recall_curve(y_test,y_pred)\n",
    "plt.figure(figsize=(14,10))\n",
    "# In matplotlib < 1.5, plt.fill_between does not have a 'step' argument\n",
    "step_kwargs = ({'step': 'post'}\n",
    "               if 'step' in signature(plt.fill_between).parameters\n",
    "               else {})\n",
    "plt.step(recall, precision, color='g', alpha=0.2, Label='Model pairing',\n",
    "         where='post')\n",
    "plt.fill_between(recall, precision, alpha=0.2, color='g', **step_kwargs)\n",
    "# plt.step([0,1],[0,y_test.mean()],color='green', label= 'RANDOM = %.2f'%0.5,  alpha=1)\n",
    "plt.fill_between([0,1],[y_test.mean(),y_test.mean()],color='grey', label= 'RANDOM = %.2f'%0.5,  alpha=1, Label='Random pairing')\n",
    "plt.xlabel('Recall')\n",
    "plt.ylabel('Precision')\n",
    "plt.legend(loc=\"upper left\")\n",
    "# plt.title('Rank wise Pickup Distance')\n",
    "plt.ylim([0.0, 1.05])\n",
    "plt.xlim([0.0, 1.0])\n",
    "plt.title('predictor Precision-Recall curve: Score ={0:0.2f}'.format((average_precision)))"
   ]
  },
  {
   "cell_type": "code",
   "execution_count": null,
   "metadata": {
    "colab": {
     "base_uri": "https://localhost:8080/",
     "height": 359
    },
    "id": "oSJY--89Xjgd",
    "outputId": "ef023ea2-d967-4013-f47c-c3578d9a9c29"
   },
   "outputs": [
    {
     "data": {
      "text/html": [
       "<div>\n",
       "<style scoped>\n",
       "    .dataframe tbody tr th:only-of-type {\n",
       "        vertical-align: middle;\n",
       "    }\n",
       "\n",
       "    .dataframe tbody tr th {\n",
       "        vertical-align: top;\n",
       "    }\n",
       "\n",
       "    .dataframe thead th {\n",
       "        text-align: right;\n",
       "    }\n",
       "</style>\n",
       "<table border=\"1\" class=\"dataframe\">\n",
       "  <thead>\n",
       "    <tr style=\"text-align: right;\">\n",
       "      <th></th>\n",
       "      <th>feature</th>\n",
       "      <th>importance</th>\n",
       "    </tr>\n",
       "  </thead>\n",
       "  <tbody>\n",
       "    <tr>\n",
       "      <th>2</th>\n",
       "      <td>FF</td>\n",
       "      <td>0.132882</td>\n",
       "    </tr>\n",
       "    <tr>\n",
       "      <th>5</th>\n",
       "      <td>promo_rides_perc</td>\n",
       "      <td>0.132647</td>\n",
       "    </tr>\n",
       "    <tr>\n",
       "      <th>6</th>\n",
       "      <td>physical_loc_perc</td>\n",
       "      <td>0.110760</td>\n",
       "    </tr>\n",
       "    <tr>\n",
       "      <th>8</th>\n",
       "      <td>avg_bonus</td>\n",
       "      <td>0.107549</td>\n",
       "    </tr>\n",
       "    <tr>\n",
       "      <th>0</th>\n",
       "      <td>non_sawari</td>\n",
       "      <td>0.092973</td>\n",
       "    </tr>\n",
       "    <tr>\n",
       "      <th>4</th>\n",
       "      <td>ratings_perc</td>\n",
       "      <td>0.090020</td>\n",
       "    </tr>\n",
       "    <tr>\n",
       "      <th>1</th>\n",
       "      <td>freq_work_days</td>\n",
       "      <td>0.086945</td>\n",
       "    </tr>\n",
       "    <tr>\n",
       "      <th>3</th>\n",
       "      <td>avg_trip_time</td>\n",
       "      <td>0.084877</td>\n",
       "    </tr>\n",
       "    <tr>\n",
       "      <th>7</th>\n",
       "      <td>bonus</td>\n",
       "      <td>0.081075</td>\n",
       "    </tr>\n",
       "    <tr>\n",
       "      <th>9</th>\n",
       "      <td>total_bonus</td>\n",
       "      <td>0.080271</td>\n",
       "    </tr>\n",
       "  </tbody>\n",
       "</table>\n",
       "</div>"
      ],
      "text/plain": [
       "             feature  importance\n",
       "2                 FF    0.132882\n",
       "5   promo_rides_perc    0.132647\n",
       "6  physical_loc_perc    0.110760\n",
       "8          avg_bonus    0.107549\n",
       "0         non_sawari    0.092973\n",
       "4       ratings_perc    0.090020\n",
       "1     freq_work_days    0.086945\n",
       "3      avg_trip_time    0.084877\n",
       "7              bonus    0.081075\n",
       "9        total_bonus    0.080271"
      ]
     },
     "execution_count": 21,
     "metadata": {
      "tags": []
     },
     "output_type": "execute_result"
    }
   ],
   "source": [
    "fi = pd.DataFrame({'feature': list(X_train.columns),\n",
    "                   'importance': model.feature_importances_}).\\\n",
    "                    sort_values('importance', ascending = False)\n",
    "fi.head(25)"
   ]
  },
  {
   "cell_type": "code",
   "execution_count": null,
   "metadata": {
    "colab": {
     "base_uri": "https://localhost:8080/",
     "height": 444
    },
    "id": "wj_ZDlYXzEQG",
    "outputId": "61775250-0462-4c0e-f3a3-d7c53d3da096"
   },
   "outputs": [
    {
     "name": "stderr",
     "output_type": "stream",
     "text": [
      "/usr/local/lib/python3.7/dist-packages/statsmodels/tools/_testing.py:19: FutureWarning: pandas.util.testing is deprecated. Use the functions in the public API at pandas.testing instead.\n",
      "  import pandas.util.testing as tm\n"
     ]
    },
    {
     "name": "stdout",
     "output_type": "stream",
     "text": [
      "Optimization terminated successfully.\n",
      "         Current function value: 0.537059\n",
      "         Iterations 6\n"
     ]
    },
    {
     "data": {
      "text/html": [
       "<div>\n",
       "<style scoped>\n",
       "    .dataframe tbody tr th:only-of-type {\n",
       "        vertical-align: middle;\n",
       "    }\n",
       "\n",
       "    .dataframe tbody tr th {\n",
       "        vertical-align: top;\n",
       "    }\n",
       "\n",
       "    .dataframe thead th {\n",
       "        text-align: right;\n",
       "    }\n",
       "</style>\n",
       "<table border=\"1\" class=\"dataframe\">\n",
       "  <thead>\n",
       "    <tr style=\"text-align: right;\">\n",
       "      <th></th>\n",
       "      <th>coef</th>\n",
       "      <th>std err</th>\n",
       "      <th>z</th>\n",
       "      <th>P&gt;|z|</th>\n",
       "      <th>[0.025</th>\n",
       "      <th>0.975]</th>\n",
       "      <th>impact</th>\n",
       "    </tr>\n",
       "  </thead>\n",
       "  <tbody>\n",
       "    <tr>\n",
       "      <th>FF</th>\n",
       "      <td>-4.198200</td>\n",
       "      <td>0.190000</td>\n",
       "      <td>-22.113</td>\n",
       "      <td>0.000</td>\n",
       "      <td>-4.570000</td>\n",
       "      <td>-3.826000e+00</td>\n",
       "      <td>-2.246679</td>\n",
       "    </tr>\n",
       "    <tr>\n",
       "      <th>promo_rides_perc</th>\n",
       "      <td>-3.898400</td>\n",
       "      <td>0.362000</td>\n",
       "      <td>-10.769</td>\n",
       "      <td>0.000</td>\n",
       "      <td>-4.608000</td>\n",
       "      <td>-3.189000e+00</td>\n",
       "      <td>-0.417055</td>\n",
       "    </tr>\n",
       "    <tr>\n",
       "      <th>physical_loc_perc</th>\n",
       "      <td>-3.047000</td>\n",
       "      <td>0.265000</td>\n",
       "      <td>-11.501</td>\n",
       "      <td>0.000</td>\n",
       "      <td>-3.566000</td>\n",
       "      <td>-2.528000e+00</td>\n",
       "      <td>-0.396110</td>\n",
       "    </tr>\n",
       "    <tr>\n",
       "      <th>avg_bonus</th>\n",
       "      <td>-0.000600</td>\n",
       "      <td>0.000000</td>\n",
       "      <td>-4.952</td>\n",
       "      <td>0.000</td>\n",
       "      <td>-0.001000</td>\n",
       "      <td>-0.000000e+00</td>\n",
       "      <td>-0.147833</td>\n",
       "    </tr>\n",
       "    <tr>\n",
       "      <th>freq_work_days</th>\n",
       "      <td>-0.001800</td>\n",
       "      <td>0.002000</td>\n",
       "      <td>-1.198</td>\n",
       "      <td>0.231</td>\n",
       "      <td>-0.005000</td>\n",
       "      <td>1.000000e-03</td>\n",
       "      <td>-0.055410</td>\n",
       "    </tr>\n",
       "    <tr>\n",
       "      <th>total_bonus</th>\n",
       "      <td>-0.000007</td>\n",
       "      <td>0.000003</td>\n",
       "      <td>-2.205</td>\n",
       "      <td>0.027</td>\n",
       "      <td>-0.000014</td>\n",
       "      <td>-8.130000e-07</td>\n",
       "      <td>-0.045473</td>\n",
       "    </tr>\n",
       "    <tr>\n",
       "      <th>non_sawari</th>\n",
       "      <td>1.531300</td>\n",
       "      <td>0.217000</td>\n",
       "      <td>7.067</td>\n",
       "      <td>0.000</td>\n",
       "      <td>1.107000</td>\n",
       "      <td>1.956000e+00</td>\n",
       "      <td>0.225504</td>\n",
       "    </tr>\n",
       "    <tr>\n",
       "      <th>bonus</th>\n",
       "      <td>0.693600</td>\n",
       "      <td>0.195000</td>\n",
       "      <td>3.556</td>\n",
       "      <td>0.000</td>\n",
       "      <td>0.311000</td>\n",
       "      <td>1.076000e+00</td>\n",
       "      <td>0.501888</td>\n",
       "    </tr>\n",
       "    <tr>\n",
       "      <th>avg_trip_time</th>\n",
       "      <td>0.024600</td>\n",
       "      <td>0.005000</td>\n",
       "      <td>4.758</td>\n",
       "      <td>0.000</td>\n",
       "      <td>0.014000</td>\n",
       "      <td>3.500000e-02</td>\n",
       "      <td>0.579281</td>\n",
       "    </tr>\n",
       "    <tr>\n",
       "      <th>ratings_perc</th>\n",
       "      <td>1.260300</td>\n",
       "      <td>0.216000</td>\n",
       "      <td>5.832</td>\n",
       "      <td>0.000</td>\n",
       "      <td>0.837000</td>\n",
       "      <td>1.684000e+00</td>\n",
       "      <td>1.194779</td>\n",
       "    </tr>\n",
       "  </tbody>\n",
       "</table>\n",
       "</div>"
      ],
      "text/plain": [
       "                       coef   std err       z  ...    [0.025        0.975]    impact\n",
       "FF                -4.198200  0.190000 -22.113  ... -4.570000 -3.826000e+00 -2.246679\n",
       "promo_rides_perc  -3.898400  0.362000 -10.769  ... -4.608000 -3.189000e+00 -0.417055\n",
       "physical_loc_perc -3.047000  0.265000 -11.501  ... -3.566000 -2.528000e+00 -0.396110\n",
       "avg_bonus         -0.000600  0.000000  -4.952  ... -0.001000 -0.000000e+00 -0.147833\n",
       "freq_work_days    -0.001800  0.002000  -1.198  ... -0.005000  1.000000e-03 -0.055410\n",
       "total_bonus       -0.000007  0.000003  -2.205  ... -0.000014 -8.130000e-07 -0.045473\n",
       "non_sawari         1.531300  0.217000   7.067  ...  1.107000  1.956000e+00  0.225504\n",
       "bonus              0.693600  0.195000   3.556  ...  0.311000  1.076000e+00  0.501888\n",
       "avg_trip_time      0.024600  0.005000   4.758  ...  0.014000  3.500000e-02  0.579281\n",
       "ratings_perc       1.260300  0.216000   5.832  ...  0.837000  1.684000e+00  1.194779\n",
       "\n",
       "[10 rows x 7 columns]"
      ]
     },
     "execution_count": 22,
     "metadata": {
      "tags": []
     },
     "output_type": "execute_result"
    }
   ],
   "source": [
    "#Training Using Logistic Regression \n",
    "#Model Traing Trial 3\n",
    "from sklearn.linear_model import LogisticRegression\n",
    "import statsmodels.api as sm\n",
    "\n",
    "model_logit = sm.Logit(y_train, X_train)\n",
    "result = model_logit.fit()\n",
    "\n",
    "result_summary = result.summary()\n",
    "\n",
    "results_as_html = result_summary.tables[1].as_html()\n",
    "\n",
    "res = pd.read_html(results_as_html, header=0, index_col=0)[0]\n",
    "d = X_train\n",
    "d['intercept'] = 1.0\n",
    "res['impact'] = d.mean() * res.coef\n",
    "res.sort_values('impact', ascending = True)"
   ]
  },
  {
   "cell_type": "code",
   "execution_count": null,
   "metadata": {
    "colab": {
     "base_uri": "https://localhost:8080/"
    },
    "id": "zWbSMcGUuzjf",
    "outputId": "97dd74d0-d488-4117-dab5-4f96032fc6c5"
   },
   "outputs": [
    {
     "data": {
      "text/plain": [
       "['frequency',\n",
       " 'avg_h',\n",
       " 'non_sawari',\n",
       " 'freq_work_days',\n",
       " 'FF',\n",
       " 'avg_trip_time',\n",
       " 'ratings_perc',\n",
       " 'promo_rides_perc',\n",
       " 'wallet_rides_perc',\n",
       " 'physical_loc_perc',\n",
       " 'fake_dist_perc',\n",
       " 'repeat_users_perc',\n",
       " 'bonus',\n",
       " 'avg_bonus',\n",
       " 'total_bonus',\n",
       " 'activehours_delta',\n",
       " 'ff_delta',\n",
       " 'accp_delta']"
      ]
     },
     "execution_count": 42,
     "metadata": {
      "tags": []
     },
     "output_type": "execute_result"
    }
   ],
   "source": [
    "col = res[(res['P>|z|'] < 0.05)].T.columns.to_list()\n",
    "col"
   ]
  },
  {
   "cell_type": "code",
   "execution_count": null,
   "metadata": {
    "colab": {
     "base_uri": "https://localhost:8080/",
     "height": 355
    },
    "id": "S5r239sPxu6v",
    "outputId": "70f10cda-0362-4a40-e80a-020b0ba71c7d"
   },
   "outputs": [
    {
     "name": "stdout",
     "output_type": "stream",
     "text": [
      "Collecting shap\n",
      "\u001b[?25l  Downloading https://files.pythonhosted.org/packages/a8/77/b504e43e21a2ba543a1ac4696718beb500cfa708af2fb57cb54ce299045c/shap-0.35.0.tar.gz (273kB)\n",
      "\u001b[K     |████████████████████████████████| 276kB 2.9MB/s \n",
      "\u001b[?25hRequirement already satisfied: numpy in /usr/local/lib/python3.6/dist-packages (from shap) (1.18.5)\n",
      "Requirement already satisfied: scipy in /usr/local/lib/python3.6/dist-packages (from shap) (1.4.1)\n",
      "Requirement already satisfied: scikit-learn in /usr/local/lib/python3.6/dist-packages (from shap) (0.22.2.post1)\n",
      "Requirement already satisfied: pandas in /usr/local/lib/python3.6/dist-packages (from shap) (1.0.5)\n",
      "Requirement already satisfied: tqdm>4.25.0 in /usr/local/lib/python3.6/dist-packages (from shap) (4.41.1)\n",
      "Requirement already satisfied: joblib>=0.11 in /usr/local/lib/python3.6/dist-packages (from scikit-learn->shap) (0.15.1)\n",
      "Requirement already satisfied: pytz>=2017.2 in /usr/local/lib/python3.6/dist-packages (from pandas->shap) (2018.9)\n",
      "Requirement already satisfied: python-dateutil>=2.6.1 in /usr/local/lib/python3.6/dist-packages (from pandas->shap) (2.8.1)\n",
      "Requirement already satisfied: six>=1.5 in /usr/local/lib/python3.6/dist-packages (from python-dateutil>=2.6.1->pandas->shap) (1.12.0)\n",
      "Building wheels for collected packages: shap\n",
      "  Building wheel for shap (setup.py) ... \u001b[?25l\u001b[?25hdone\n",
      "  Created wheel for shap: filename=shap-0.35.0-cp36-cp36m-linux_x86_64.whl size=394123 sha256=0377def3cbb11f2aa9108560c2a6509cd8206fed83793c3aabdf3c2025430426\n",
      "  Stored in directory: /root/.cache/pip/wheels/e7/f7/0f/b57055080cf8894906b3bd3616d2fc2bfd0b12d5161bcb24ac\n",
      "Successfully built shap\n",
      "Installing collected packages: shap\n",
      "Successfully installed shap-0.35.0\n"
     ]
    }
   ],
   "source": [
    "!pip install shap"
   ]
  },
  {
   "cell_type": "code",
   "execution_count": null,
   "metadata": {
    "colab": {
     "base_uri": "https://localhost:8080/",
     "height": 35
    },
    "id": "fx6gjB6fxW1D",
    "outputId": "a9fa241f-5bad-42ef-e7e6-c964ca9b00b8"
   },
   "outputs": [
    {
     "name": "stderr",
     "output_type": "stream",
     "text": [
      "Setting feature_perturbation = \"tree_path_dependent\" because no background data was given.\n"
     ]
    }
   ],
   "source": [
    "\n",
    "import shap  # package used to calculate Shap values\n",
    "\n",
    "# Create object that can calculate shap values\n",
    "explainer = shap.TreeExplainer(model)\n",
    "\n",
    "# Calculate Shap values\n",
    "shap_values = explainer.shap_values(X_train)"
   ]
  },
  {
   "cell_type": "code",
   "execution_count": null,
   "metadata": {
    "id": "sp7laZsRxWot"
   },
   "outputs": [],
   "source": [
    "shap.initjs()\n",
    "shap.force_plot(explainer.expected_value[1], shap_values[1], X_test)"
   ]
  },
  {
   "cell_type": "code",
   "execution_count": null,
   "metadata": {
    "colab": {
     "base_uri": "https://localhost:8080/",
     "height": 245
    },
    "id": "uKKoYdlVqdSj",
    "outputId": "15e9729b-4217-43b0-ae45-7ac519ecb1b9"
   },
   "outputs": [
    {
     "data": {
      "text/plain": [
       "array([[ 7.45357004e-04, -3.41486059e-02,  1.08946660e-02, ...,\n",
       "         5.34246826e-02,  6.64876485e-02, -5.22380424e-03],\n",
       "       [ 7.06505060e-03,  9.56464917e-04,  4.21162150e-03, ...,\n",
       "        -8.37087788e-02, -5.17750349e-02, -1.03847858e-02],\n",
       "       [ 4.33825294e-03, -1.54207864e-02, -1.07859027e-03, ...,\n",
       "        -2.17859158e-02, -1.28315573e-02, -3.05259478e-03],\n",
       "       ...,\n",
       "       [-4.38321872e-03, -1.47562601e-02, -1.53580041e-03, ...,\n",
       "         8.13868391e-02,  6.47081982e-02, -7.83068783e-03],\n",
       "       [ 3.32097589e-03, -1.48951556e-02, -7.61551938e-02, ...,\n",
       "         6.96284541e-02,  5.87343799e-03, -8.51870632e-05],\n",
       "       [ 1.76981816e-03, -2.90270760e-02, -8.17839835e-03, ...,\n",
       "        -4.89253927e-02, -1.74595624e-02,  9.00033766e-03]])"
      ]
     },
     "execution_count": 34,
     "metadata": {
      "tags": []
     },
     "output_type": "execute_result"
    }
   ],
   "source": [
    "shap_values[1]"
   ]
  },
  {
   "cell_type": "code",
   "execution_count": null,
   "metadata": {
    "colab": {
     "base_uri": "https://localhost:8080/",
     "height": 411
    },
    "id": "MRLGWpP61wY3",
    "outputId": "e63252ce-655c-46bc-9cf7-2e414a6f3918"
   },
   "outputs": [
    {
     "data": {
      "image/png": "[encoded data removed]",
      "text/plain": [
       "<Figure size 576x453.6 with 2 Axes>"
      ]
     },
     "metadata": {
      "needs_background": "light",
      "tags": []
     },
     "output_type": "display_data"
    }
   ],
   "source": [
    "shap.summary_plot(shap_values[1], X_train)"
   ]
  },
  {
   "cell_type": "code",
   "execution_count": null,
   "metadata": {
    "id": "kHGa4lCnvHsl"
   },
   "outputs": [],
   "source": [
    "y_pred = result.predict(X_test)"
   ]
  },
  {
   "cell_type": "code",
   "execution_count": null,
   "metadata": {
    "colab": {
     "base_uri": "https://localhost:8080/",
     "height": 224
    },
    "id": "KTYPgaspVQjY",
    "outputId": "327168c7-b68b-4cb4-94f0-4d711278b963"
   },
   "outputs": [
    {
     "data": {
      "text/html": [
       "<div>\n",
       "<style scoped>\n",
       "    .dataframe tbody tr th:only-of-type {\n",
       "        vertical-align: middle;\n",
       "    }\n",
       "\n",
       "    .dataframe tbody tr th {\n",
       "        vertical-align: top;\n",
       "    }\n",
       "\n",
       "    .dataframe thead th {\n",
       "        text-align: right;\n",
       "    }\n",
       "</style>\n",
       "<table border=\"1\" class=\"dataframe\">\n",
       "  <thead>\n",
       "    <tr style=\"text-align: right;\">\n",
       "      <th></th>\n",
       "      <th>AGE</th>\n",
       "      <th>Trips</th>\n",
       "      <th>frequency</th>\n",
       "      <th>avg_h</th>\n",
       "      <th>working_perc</th>\n",
       "      <th>non_sawari</th>\n",
       "      <th>freq_work_days</th>\n",
       "      <th>monetory</th>\n",
       "      <th>FF</th>\n",
       "      <th>avg_rating</th>\n",
       "      <th>pickup_avg</th>\n",
       "      <th>avg_trip_dist</th>\n",
       "      <th>avg_trip_time</th>\n",
       "      <th>avg_trip_speed</th>\n",
       "      <th>dd</th>\n",
       "      <th>Low_rating_perc</th>\n",
       "      <th>ratings_perc</th>\n",
       "      <th>promo_rides_perc</th>\n",
       "      <th>wallet_rides_perc</th>\n",
       "      <th>physical_loc_perc</th>\n",
       "      <th>fake_dist_perc</th>\n",
       "      <th>zero_km_perc</th>\n",
       "      <th>fake_imei_perc</th>\n",
       "      <th>repeat_users_perc</th>\n",
       "      <th>bonus</th>\n",
       "      <th>avg_bonus</th>\n",
       "      <th>total_bonus</th>\n",
       "      <th>activehours_delta</th>\n",
       "      <th>ff_delta</th>\n",
       "      <th>accp_delta</th>\n",
       "    </tr>\n",
       "  </thead>\n",
       "  <tbody>\n",
       "    <tr>\n",
       "      <th>436</th>\n",
       "      <td>33.0</td>\n",
       "      <td>284</td>\n",
       "      <td>11.106145</td>\n",
       "      <td>13.959545</td>\n",
       "      <td>0.553073</td>\n",
       "      <td>0.232394</td>\n",
       "      <td>24.850000</td>\n",
       "      <td>34820</td>\n",
       "      <td>0.359039</td>\n",
       "      <td>4.546099</td>\n",
       "      <td>6.826855</td>\n",
       "      <td>10.528169</td>\n",
       "      <td>24.847518</td>\n",
       "      <td>27.572693</td>\n",
       "      <td>0.000000</td>\n",
       "      <td>0.127660</td>\n",
       "      <td>0.992958</td>\n",
       "      <td>0.077465</td>\n",
       "      <td>0.246479</td>\n",
       "      <td>0.204225</td>\n",
       "      <td>0.429577</td>\n",
       "      <td>0.007042</td>\n",
       "      <td>0.066901</td>\n",
       "      <td>0.915493</td>\n",
       "      <td>0.666667</td>\n",
       "      <td>96.000000</td>\n",
       "      <td>4800.0</td>\n",
       "      <td>4.233333</td>\n",
       "      <td>1.724667</td>\n",
       "      <td>-6.142667</td>\n",
       "    </tr>\n",
       "    <tr>\n",
       "      <th>20639</th>\n",
       "      <td>24.0</td>\n",
       "      <td>474</td>\n",
       "      <td>8.618182</td>\n",
       "      <td>15.628906</td>\n",
       "      <td>0.249351</td>\n",
       "      <td>0.215190</td>\n",
       "      <td>38.137931</td>\n",
       "      <td>55969</td>\n",
       "      <td>0.617188</td>\n",
       "      <td>4.756579</td>\n",
       "      <td>5.789030</td>\n",
       "      <td>9.411392</td>\n",
       "      <td>23.852321</td>\n",
       "      <td>25.567577</td>\n",
       "      <td>0.004219</td>\n",
       "      <td>0.059211</td>\n",
       "      <td>0.962025</td>\n",
       "      <td>0.052743</td>\n",
       "      <td>0.213080</td>\n",
       "      <td>0.054852</td>\n",
       "      <td>0.413502</td>\n",
       "      <td>0.006329</td>\n",
       "      <td>0.029536</td>\n",
       "      <td>0.934599</td>\n",
       "      <td>0.833333</td>\n",
       "      <td>239.024390</td>\n",
       "      <td>9800.0</td>\n",
       "      <td>-3.590000</td>\n",
       "      <td>-14.706667</td>\n",
       "      <td>-12.539333</td>\n",
       "    </tr>\n",
       "    <tr>\n",
       "      <th>29194</th>\n",
       "      <td>32.0</td>\n",
       "      <td>119</td>\n",
       "      <td>3.590517</td>\n",
       "      <td>13.141487</td>\n",
       "      <td>0.435345</td>\n",
       "      <td>0.008403</td>\n",
       "      <td>10.679487</td>\n",
       "      <td>17430</td>\n",
       "      <td>0.285372</td>\n",
       "      <td>4.820513</td>\n",
       "      <td>7.882353</td>\n",
       "      <td>13.126050</td>\n",
       "      <td>31.245763</td>\n",
       "      <td>26.161243</td>\n",
       "      <td>0.478992</td>\n",
       "      <td>0.042735</td>\n",
       "      <td>0.983193</td>\n",
       "      <td>0.126050</td>\n",
       "      <td>0.151261</td>\n",
       "      <td>0.176471</td>\n",
       "      <td>0.159664</td>\n",
       "      <td>0.016807</td>\n",
       "      <td>0.092437</td>\n",
       "      <td>0.924370</td>\n",
       "      <td>0.806452</td>\n",
       "      <td>22.727273</td>\n",
       "      <td>1000.0</td>\n",
       "      <td>-2.056944</td>\n",
       "      <td>12.777333</td>\n",
       "      <td>-3.530667</td>\n",
       "    </tr>\n",
       "    <tr>\n",
       "      <th>1865</th>\n",
       "      <td>-7.0</td>\n",
       "      <td>99</td>\n",
       "      <td>8.451220</td>\n",
       "      <td>15.689815</td>\n",
       "      <td>0.463415</td>\n",
       "      <td>0.111111</td>\n",
       "      <td>22.354839</td>\n",
       "      <td>10412</td>\n",
       "      <td>0.458333</td>\n",
       "      <td>4.556701</td>\n",
       "      <td>7.222222</td>\n",
       "      <td>9.030303</td>\n",
       "      <td>24.202020</td>\n",
       "      <td>23.777535</td>\n",
       "      <td>0.000000</td>\n",
       "      <td>0.134021</td>\n",
       "      <td>0.979798</td>\n",
       "      <td>0.030303</td>\n",
       "      <td>0.171717</td>\n",
       "      <td>0.000000</td>\n",
       "      <td>0.303030</td>\n",
       "      <td>0.030303</td>\n",
       "      <td>0.191919</td>\n",
       "      <td>0.959596</td>\n",
       "      <td>0.636364</td>\n",
       "      <td>244.444444</td>\n",
       "      <td>2200.0</td>\n",
       "      <td>2.796667</td>\n",
       "      <td>-7.634667</td>\n",
       "      <td>2.291333</td>\n",
       "    </tr>\n",
       "    <tr>\n",
       "      <th>19230</th>\n",
       "      <td>35.0</td>\n",
       "      <td>90</td>\n",
       "      <td>4.064516</td>\n",
       "      <td>16.531250</td>\n",
       "      <td>0.303226</td>\n",
       "      <td>0.122222</td>\n",
       "      <td>15.750000</td>\n",
       "      <td>10362</td>\n",
       "      <td>0.468750</td>\n",
       "      <td>4.797753</td>\n",
       "      <td>5.788889</td>\n",
       "      <td>9.488889</td>\n",
       "      <td>21.288889</td>\n",
       "      <td>27.405583</td>\n",
       "      <td>0.088889</td>\n",
       "      <td>0.067416</td>\n",
       "      <td>0.988889</td>\n",
       "      <td>0.022222</td>\n",
       "      <td>0.211111</td>\n",
       "      <td>0.000000</td>\n",
       "      <td>0.366667</td>\n",
       "      <td>0.022222</td>\n",
       "      <td>0.066667</td>\n",
       "      <td>0.977778</td>\n",
       "      <td>0.916667</td>\n",
       "      <td>19.260870</td>\n",
       "      <td>443.0</td>\n",
       "      <td>-0.443333</td>\n",
       "      <td>1.388667</td>\n",
       "      <td>-11.526667</td>\n",
       "    </tr>\n",
       "  </tbody>\n",
       "</table>\n",
       "</div>"
      ],
      "text/plain": [
       "        AGE  Trips  frequency  ...  activehours_delta   ff_delta  accp_delta\n",
       "436    33.0    284  11.106145  ...           4.233333   1.724667   -6.142667\n",
       "20639  24.0    474   8.618182  ...          -3.590000 -14.706667  -12.539333\n",
       "29194  32.0    119   3.590517  ...          -2.056944  12.777333   -3.530667\n",
       "1865   -7.0     99   8.451220  ...           2.796667  -7.634667    2.291333\n",
       "19230  35.0     90   4.064516  ...          -0.443333   1.388667  -11.526667\n",
       "\n",
       "[5 rows x 30 columns]"
      ]
     },
     "execution_count": 61,
     "metadata": {
      "tags": []
     },
     "output_type": "execute_result"
    }
   ],
   "source": [
    "X_test.head()"
   ]
  },
  {
   "cell_type": "code",
   "execution_count": null,
   "metadata": {
    "colab": {
     "base_uri": "https://localhost:8080/"
    },
    "id": "-lOrXqs3vSEY",
    "outputId": "d9b83c47-18fc-4f77-a707-09211d7c27fb"
   },
   "outputs": [
    {
     "data": {
      "text/plain": [
       "0.7918246516356677"
      ]
     },
     "execution_count": 62,
     "metadata": {
      "tags": []
     },
     "output_type": "execute_result"
    }
   ],
   "source": [
    "roc_value = roc_auc_score(y_test, y_pred)\n",
    "roc_value"
   ]
  },
  {
   "cell_type": "code",
   "execution_count": null,
   "metadata": {
    "colab": {
     "base_uri": "https://localhost:8080/",
     "height": 638
    },
    "id": "4Xk4y1KSOWC_",
    "outputId": "88d286ae-797c-404d-9428-3fc751882a7c"
   },
   "outputs": [
    {
     "data": {
      "text/plain": [
       "Text(0.5, 1.0, 'predictor Precision-Recall curve: Score =0.66')"
      ]
     },
     "execution_count": 63,
     "metadata": {
      "tags": []
     },
     "output_type": "execute_result"
    },
    {
     "data": {
      "image/png": "[encoded data removed]",
      "text/plain": [
       "<Figure size 1008x720 with 1 Axes>"
      ]
     },
     "metadata": {
      "needs_background": "light",
      "tags": []
     },
     "output_type": "display_data"
    }
   ],
   "source": [
    "# y_pred = rf_probs\n",
    "average_precision = average_precision_score(y_test, y_pred)\n",
    "\n",
    "# average_precision - y_test.mean()\n",
    "\n",
    "precision, recall, _ = precision_recall_curve(y_test,y_pred)\n",
    "\n",
    "\n",
    "plt.figure(figsize=(14,10))\n",
    "\n",
    "\n",
    "# In matplotlib < 1.5, plt.fill_between does not have a 'step' argument\n",
    "step_kwargs = ({'step': 'post'}\n",
    "               if 'step' in signature(plt.fill_between).parameters\n",
    "               else {})\n",
    "plt.step(recall, precision, color='g', alpha=0.2, Label='Model pairing',\n",
    "         where='post')\n",
    "plt.fill_between(recall, precision, alpha=0.2, color='g', **step_kwargs)\n",
    "\n",
    "# plt.step([0,1],[0,y_test.mean()],color='green', label= 'RANDOM = %.2f'%0.5,  alpha=1)\n",
    "plt.fill_between([0,1],[y_test.mean(),y_test.mean()],color='grey', label= 'RANDOM = %.2f'%0.5,  alpha=1, Label='Random pairing')\n",
    "\n",
    "plt.xlabel('Recall')\n",
    "plt.ylabel('Precision')\n",
    "plt.legend(loc=\"upper left\")\n",
    "# plt.title('Rank wise Pickup Distance')\n",
    "plt.ylim([0.0, 1.05])\n",
    "plt.xlim([0.0, 1.0])\n",
    "plt.title('predictor Precision-Recall curve: Score ={0:0.2f}'.format((average_precision)))"
   ]
  },
  {
   "cell_type": "code",
   "execution_count": null,
   "metadata": {
    "colab": {
     "base_uri": "https://localhost:8080/"
    },
    "id": "lRDR9gWZwpGz",
    "outputId": "057d3c9f-cade-4fbc-ddcd-e31dee833c64"
   },
   "outputs": [
    {
     "data": {
      "text/plain": [
       "Index(['non_sawari', 'freq_work_days', 'FF', 'avg_trip_time', 'ratings_perc',\n",
       "       'promo_rides_perc', 'physical_loc_perc', 'bonus', 'avg_bonus',\n",
       "       'total_bonus', 'intercept'],\n",
       "      dtype='object')"
      ]
     },
     "execution_count": 23,
     "metadata": {
      "tags": []
     },
     "output_type": "execute_result"
    }
   ],
   "source": [
    "X_train.columns"
   ]
  },
  {
   "cell_type": "code",
   "execution_count": null,
   "metadata": {
    "colab": {
     "base_uri": "https://localhost:8080/",
     "height": 322
    },
    "id": "Mzwr4ONvbObD",
    "outputId": "3a985053-1669-4d32-c65b-c1acbca05173"
   },
   "outputs": [
    {
     "data": {
      "text/html": [
       "<div>\n",
       "<style scoped>\n",
       "    .dataframe tbody tr th:only-of-type {\n",
       "        vertical-align: middle;\n",
       "    }\n",
       "\n",
       "    .dataframe tbody tr th {\n",
       "        vertical-align: top;\n",
       "    }\n",
       "\n",
       "    .dataframe thead th {\n",
       "        text-align: right;\n",
       "    }\n",
       "</style>\n",
       "<table border=\"1\" class=\"dataframe\">\n",
       "  <thead>\n",
       "    <tr style=\"text-align: right;\">\n",
       "      <th></th>\n",
       "      <th>_id</th>\n",
       "      <th>city_code</th>\n",
       "      <th>home_zone</th>\n",
       "      <th>source</th>\n",
       "      <th>model_number</th>\n",
       "      <th>AGE</th>\n",
       "      <th>smartphone_brand</th>\n",
       "      <th>smartphone_model</th>\n",
       "      <th>license_type</th>\n",
       "      <th>city</th>\n",
       "      <th>driver_id</th>\n",
       "      <th>Start</th>\n",
       "      <th>Last_date</th>\n",
       "      <th>Trips</th>\n",
       "      <th>Recency</th>\n",
       "      <th>frequency</th>\n",
       "      <th>avg_h</th>\n",
       "      <th>working_perc</th>\n",
       "      <th>non_sawari</th>\n",
       "      <th>freq_work_days</th>\n",
       "      <th>monetory</th>\n",
       "      <th>FF</th>\n",
       "      <th>low_rated</th>\n",
       "      <th>avg_rating</th>\n",
       "      <th>ratings_given</th>\n",
       "      <th>promo_rides</th>\n",
       "      <th>wallet_rides</th>\n",
       "      <th>fake_dist</th>\n",
       "      <th>pickup_avg</th>\n",
       "      <th>physical_loc</th>\n",
       "      <th>zero_km</th>\n",
       "      <th>avg_trip_dist</th>\n",
       "      <th>avg_trip_time</th>\n",
       "      <th>avg_trip_speed</th>\n",
       "      <th>users</th>\n",
       "      <th>dd</th>\n",
       "      <th>net_busy</th>\n",
       "      <th>fake_imei</th>\n",
       "      <th>Low_rating_perc</th>\n",
       "      <th>ratings_perc</th>\n",
       "      <th>promo_rides_perc</th>\n",
       "      <th>wallet_rides_perc</th>\n",
       "      <th>physical_loc_perc</th>\n",
       "      <th>fake_dist_perc</th>\n",
       "      <th>zero_km_perc</th>\n",
       "      <th>fake_imei_perc</th>\n",
       "      <th>repeat_users_perc</th>\n",
       "      <th>defaulter</th>\n",
       "      <th>bonus</th>\n",
       "      <th>avg_bonus</th>\n",
       "      <th>total_bonus</th>\n",
       "      <th>limit_reached</th>\n",
       "      <th>activehours_delta</th>\n",
       "      <th>ff_delta</th>\n",
       "      <th>accp_delta</th>\n",
       "    </tr>\n",
       "  </thead>\n",
       "  <tbody>\n",
       "    <tr>\n",
       "      <th>0</th>\n",
       "      <td>5bf69a1564f7f2fe32fc1ff9</td>\n",
       "      <td>RWP</td>\n",
       "      <td>Dhoke Khabba</td>\n",
       "      <td>Others</td>\n",
       "      <td>2017</td>\n",
       "      <td>28.0</td>\n",
       "      <td>Rivo</td>\n",
       "      <td>RIVO-6</td>\n",
       "      <td>Permanent</td>\n",
       "      <td>58f9d76315f7617c3705db22</td>\n",
       "      <td>5bf69a1564f7f2fe32fc1ff9</td>\n",
       "      <td>2018-11-23</td>\n",
       "      <td>2020-04-05</td>\n",
       "      <td>133</td>\n",
       "      <td>102</td>\n",
       "      <td>1.865731</td>\n",
       "      <td>13.277512</td>\n",
       "      <td>0.068136</td>\n",
       "      <td>0.015038</td>\n",
       "      <td>27.382353</td>\n",
       "      <td>13904</td>\n",
       "      <td>0.636364</td>\n",
       "      <td>9</td>\n",
       "      <td>4.765625</td>\n",
       "      <td>128</td>\n",
       "      <td>27</td>\n",
       "      <td>24</td>\n",
       "      <td>28</td>\n",
       "      <td>7.353383</td>\n",
       "      <td>22</td>\n",
       "      <td>1</td>\n",
       "      <td>10.157895</td>\n",
       "      <td>21.601504</td>\n",
       "      <td>29.865609</td>\n",
       "      <td>133</td>\n",
       "      <td>0.015038</td>\n",
       "      <td>2.116667</td>\n",
       "      <td>11</td>\n",
       "      <td>0.070312</td>\n",
       "      <td>0.962406</td>\n",
       "      <td>0.203008</td>\n",
       "      <td>0.180451</td>\n",
       "      <td>0.165414</td>\n",
       "      <td>0.210526</td>\n",
       "      <td>0.007519</td>\n",
       "      <td>0.082707</td>\n",
       "      <td>1.000000</td>\n",
       "      <td>0</td>\n",
       "      <td>0.470588</td>\n",
       "      <td>192.307692</td>\n",
       "      <td>2500.0</td>\n",
       "      <td>0.261905</td>\n",
       "      <td>0.961574</td>\n",
       "      <td>2.508667</td>\n",
       "      <td>13.158667</td>\n",
       "    </tr>\n",
       "    <tr>\n",
       "      <th>1</th>\n",
       "      <td>5d80c9bf81627f7ad8664665</td>\n",
       "      <td>RWP</td>\n",
       "      <td>G-5,6,7,8</td>\n",
       "      <td>Others</td>\n",
       "      <td>2018</td>\n",
       "      <td>31.0</td>\n",
       "      <td>Samsung</td>\n",
       "      <td>J-7</td>\n",
       "      <td>Permanent</td>\n",
       "      <td>58f9d76315f7617c3705db22</td>\n",
       "      <td>5d80c9bf81627f7ad8664665</td>\n",
       "      <td>2019-09-18</td>\n",
       "      <td>2020-04-05</td>\n",
       "      <td>174</td>\n",
       "      <td>102</td>\n",
       "      <td>6.090000</td>\n",
       "      <td>17.958466</td>\n",
       "      <td>0.340000</td>\n",
       "      <td>0.051724</td>\n",
       "      <td>17.911765</td>\n",
       "      <td>17037</td>\n",
       "      <td>0.555911</td>\n",
       "      <td>12</td>\n",
       "      <td>4.699387</td>\n",
       "      <td>163</td>\n",
       "      <td>31</td>\n",
       "      <td>18</td>\n",
       "      <td>45</td>\n",
       "      <td>7.574713</td>\n",
       "      <td>37</td>\n",
       "      <td>0</td>\n",
       "      <td>9.344828</td>\n",
       "      <td>18.660920</td>\n",
       "      <td>31.517189</td>\n",
       "      <td>160</td>\n",
       "      <td>0.040230</td>\n",
       "      <td>2.133333</td>\n",
       "      <td>16</td>\n",
       "      <td>0.073620</td>\n",
       "      <td>0.936782</td>\n",
       "      <td>0.178161</td>\n",
       "      <td>0.103448</td>\n",
       "      <td>0.212644</td>\n",
       "      <td>0.258621</td>\n",
       "      <td>0.000000</td>\n",
       "      <td>0.091954</td>\n",
       "      <td>0.919540</td>\n",
       "      <td>0</td>\n",
       "      <td>0.550000</td>\n",
       "      <td>84.615385</td>\n",
       "      <td>2200.0</td>\n",
       "      <td>0.026667</td>\n",
       "      <td>-1.426944</td>\n",
       "      <td>0.648791</td>\n",
       "      <td>-8.863242</td>\n",
       "    </tr>\n",
       "    <tr>\n",
       "      <th>2</th>\n",
       "      <td>5a3cf04c853d3e7b0750543c</td>\n",
       "      <td>KHI</td>\n",
       "      <td>Liaqatabad</td>\n",
       "      <td>Others</td>\n",
       "      <td>2005</td>\n",
       "      <td>51.0</td>\n",
       "      <td>Samsung</td>\n",
       "      <td>GT-I9305</td>\n",
       "      <td>Permanent</td>\n",
       "      <td>58f9d76315f7617c3705db21</td>\n",
       "      <td>5a3cf04c853d3e7b0750543c</td>\n",
       "      <td>2018-03-01</td>\n",
       "      <td>2020-05-28</td>\n",
       "      <td>2642</td>\n",
       "      <td>49</td>\n",
       "      <td>22.581197</td>\n",
       "      <td>10.613840</td>\n",
       "      <td>0.771673</td>\n",
       "      <td>0.076079</td>\n",
       "      <td>29.262658</td>\n",
       "      <td>290405</td>\n",
       "      <td>0.716961</td>\n",
       "      <td>167</td>\n",
       "      <td>4.739969</td>\n",
       "      <td>2542</td>\n",
       "      <td>314</td>\n",
       "      <td>567</td>\n",
       "      <td>951</td>\n",
       "      <td>5.956094</td>\n",
       "      <td>398</td>\n",
       "      <td>19</td>\n",
       "      <td>9.216124</td>\n",
       "      <td>20.632854</td>\n",
       "      <td>28.261165</td>\n",
       "      <td>2092</td>\n",
       "      <td>0.000379</td>\n",
       "      <td>0.800000</td>\n",
       "      <td>132</td>\n",
       "      <td>0.065696</td>\n",
       "      <td>0.962150</td>\n",
       "      <td>0.118849</td>\n",
       "      <td>0.214610</td>\n",
       "      <td>0.150643</td>\n",
       "      <td>0.359955</td>\n",
       "      <td>0.007192</td>\n",
       "      <td>0.049962</td>\n",
       "      <td>0.791824</td>\n",
       "      <td>0</td>\n",
       "      <td>0.961538</td>\n",
       "      <td>421.924855</td>\n",
       "      <td>72993.0</td>\n",
       "      <td>0.025197</td>\n",
       "      <td>0.016222</td>\n",
       "      <td>-0.660667</td>\n",
       "      <td>4.012000</td>\n",
       "    </tr>\n",
       "    <tr>\n",
       "      <th>3</th>\n",
       "      <td>5da1db5838121856c81d424d</td>\n",
       "      <td>KHI</td>\n",
       "      <td>Shah Faisal Town</td>\n",
       "      <td>Franchise</td>\n",
       "      <td>2018</td>\n",
       "      <td>30.0</td>\n",
       "      <td>Infinix</td>\n",
       "      <td>Samsung</td>\n",
       "      <td>Learner</td>\n",
       "      <td>58f9d76315f7617c3705db21</td>\n",
       "      <td>5da1db5838121856c81d424d</td>\n",
       "      <td>2019-10-31</td>\n",
       "      <td>2020-03-09</td>\n",
       "      <td>457</td>\n",
       "      <td>129</td>\n",
       "      <td>24.607692</td>\n",
       "      <td>15.363636</td>\n",
       "      <td>0.784615</td>\n",
       "      <td>0.115974</td>\n",
       "      <td>31.362745</td>\n",
       "      <td>54376</td>\n",
       "      <td>0.769360</td>\n",
       "      <td>29</td>\n",
       "      <td>4.766110</td>\n",
       "      <td>419</td>\n",
       "      <td>48</td>\n",
       "      <td>76</td>\n",
       "      <td>215</td>\n",
       "      <td>4.389497</td>\n",
       "      <td>97</td>\n",
       "      <td>2</td>\n",
       "      <td>10.490153</td>\n",
       "      <td>21.371991</td>\n",
       "      <td>31.116773</td>\n",
       "      <td>446</td>\n",
       "      <td>0.019694</td>\n",
       "      <td>2.383333</td>\n",
       "      <td>29</td>\n",
       "      <td>0.069212</td>\n",
       "      <td>0.916849</td>\n",
       "      <td>0.105033</td>\n",
       "      <td>0.166302</td>\n",
       "      <td>0.212254</td>\n",
       "      <td>0.470460</td>\n",
       "      <td>0.004376</td>\n",
       "      <td>0.063457</td>\n",
       "      <td>0.975930</td>\n",
       "      <td>0</td>\n",
       "      <td>0.523810</td>\n",
       "      <td>305.882353</td>\n",
       "      <td>5200.0</td>\n",
       "      <td>0.009346</td>\n",
       "      <td>2.290444</td>\n",
       "      <td>0.088000</td>\n",
       "      <td>4.118667</td>\n",
       "    </tr>\n",
       "    <tr>\n",
       "      <th>4</th>\n",
       "      <td>5dd8e9a0ce5ace2caa9c1532</td>\n",
       "      <td>RWP</td>\n",
       "      <td>Chaklala</td>\n",
       "      <td>Partner Referral</td>\n",
       "      <td>2010</td>\n",
       "      <td>36.0</td>\n",
       "      <td>Oppo</td>\n",
       "      <td>Oppo-37</td>\n",
       "      <td>Learner</td>\n",
       "      <td>58f9d76315f7617c3705db22</td>\n",
       "      <td>5dd8e9a0ce5ace2caa9c1532</td>\n",
       "      <td>2019-11-23</td>\n",
       "      <td>2020-03-05</td>\n",
       "      <td>405</td>\n",
       "      <td>133</td>\n",
       "      <td>27.524272</td>\n",
       "      <td>16.515807</td>\n",
       "      <td>0.757282</td>\n",
       "      <td>0.209877</td>\n",
       "      <td>36.346154</td>\n",
       "      <td>46056</td>\n",
       "      <td>0.673877</td>\n",
       "      <td>23</td>\n",
       "      <td>4.763298</td>\n",
       "      <td>376</td>\n",
       "      <td>14</td>\n",
       "      <td>49</td>\n",
       "      <td>103</td>\n",
       "      <td>8.345679</td>\n",
       "      <td>92</td>\n",
       "      <td>4</td>\n",
       "      <td>9.555556</td>\n",
       "      <td>25.167901</td>\n",
       "      <td>24.740255</td>\n",
       "      <td>358</td>\n",
       "      <td>0.019753</td>\n",
       "      <td>3.216667</td>\n",
       "      <td>43</td>\n",
       "      <td>0.061170</td>\n",
       "      <td>0.928395</td>\n",
       "      <td>0.034568</td>\n",
       "      <td>0.120988</td>\n",
       "      <td>0.227160</td>\n",
       "      <td>0.254321</td>\n",
       "      <td>0.009877</td>\n",
       "      <td>0.106173</td>\n",
       "      <td>0.883951</td>\n",
       "      <td>0</td>\n",
       "      <td>0.368421</td>\n",
       "      <td>525.000000</td>\n",
       "      <td>6300.0</td>\n",
       "      <td>0.159091</td>\n",
       "      <td>0.122852</td>\n",
       "      <td>-2.404667</td>\n",
       "      <td>-10.088667</td>\n",
       "    </tr>\n",
       "  </tbody>\n",
       "</table>\n",
       "</div>"
      ],
      "text/plain": [
       "                        _id city_code  ...  ff_delta accp_delta\n",
       "0  5bf69a1564f7f2fe32fc1ff9       RWP  ...  2.508667  13.158667\n",
       "1  5d80c9bf81627f7ad8664665       RWP  ...  0.648791  -8.863242\n",
       "2  5a3cf04c853d3e7b0750543c       KHI  ... -0.660667   4.012000\n",
       "3  5da1db5838121856c81d424d       KHI  ...  0.088000   4.118667\n",
       "4  5dd8e9a0ce5ace2caa9c1532       RWP  ... -2.404667 -10.088667\n",
       "\n",
       "[5 rows x 55 columns]"
      ]
     },
     "execution_count": 45,
     "metadata": {
      "tags": []
     },
     "output_type": "execute_result"
    }
   ],
   "source": [
    "df_original.head()"
   ]
  },
  {
   "cell_type": "code",
   "execution_count": null,
   "metadata": {
    "id": "MT7oQR0xoyB8"
   },
   "outputs": [],
   "source": [
    "col = X_train.columns.to_list()\n",
    "col.append('_id')\n",
    "col.append('Last_date')\n",
    "col.append('defaulter')\n",
    "col.remove('intercept')"
   ]
  },
  {
   "cell_type": "code",
   "execution_count": null,
   "metadata": {
    "id": "dKGrKimzVePb"
   },
   "outputs": [],
   "source": [
    "# del active\n",
    "active = df_original[col]"
   ]
  },
  {
   "cell_type": "code",
   "execution_count": null,
   "metadata": {
    "colab": {
     "base_uri": "https://localhost:8080/"
    },
    "id": "Si4z_AWuZa6v",
    "outputId": "e4b400a8-416e-484f-aa16-9091f52101bf"
   },
   "outputs": [
    {
     "name": "stderr",
     "output_type": "stream",
     "text": [
      "/usr/local/lib/python3.7/dist-packages/ipykernel_launcher.py:1: SettingWithCopyWarning: \n",
      "A value is trying to be set on a copy of a slice from a DataFrame.\n",
      "Try using .loc[row_indexer,col_indexer] = value instead\n",
      "\n",
      "See the caveats in the documentation: https://pandas.pydata.org/pandas-docs/stable/user_guide/indexing.html#returning-a-view-versus-a-copy\n",
      "  \"\"\"Entry point for launching an IPython kernel.\n"
     ]
    }
   ],
   "source": [
    "active['Last_date'] = pd.to_datetime(active.Last_date)"
   ]
  },
  {
   "cell_type": "code",
   "execution_count": null,
   "metadata": {
    "id": "pVvicvU08nX7"
   },
   "outputs": [],
   "source": [
    "active = active[(active.Last_date >= '2021-03-15') & (active.defaulter == 0)]"
   ]
  },
  {
   "cell_type": "code",
   "execution_count": null,
   "metadata": {
    "id": "4p8jN9Kc8y5m"
   },
   "outputs": [],
   "source": [
    "active.reset_index(inplace = True)"
   ]
  },
  {
   "cell_type": "code",
   "execution_count": null,
   "metadata": {
    "colab": {
     "base_uri": "https://localhost:8080/",
     "height": 224
    },
    "id": "0JIsu-hO7pEP",
    "outputId": "341b66fc-6e90-4fca-d2da-bacdff7b9b38"
   },
   "outputs": [
    {
     "data": {
      "text/html": [
       "<div>\n",
       "<style scoped>\n",
       "    .dataframe tbody tr th:only-of-type {\n",
       "        vertical-align: middle;\n",
       "    }\n",
       "\n",
       "    .dataframe tbody tr th {\n",
       "        vertical-align: top;\n",
       "    }\n",
       "\n",
       "    .dataframe thead th {\n",
       "        text-align: right;\n",
       "    }\n",
       "</style>\n",
       "<table border=\"1\" class=\"dataframe\">\n",
       "  <thead>\n",
       "    <tr style=\"text-align: right;\">\n",
       "      <th></th>\n",
       "      <th>index</th>\n",
       "      <th>AGE</th>\n",
       "      <th>Trips</th>\n",
       "      <th>frequency</th>\n",
       "      <th>avg_h</th>\n",
       "      <th>working_perc</th>\n",
       "      <th>non_sawari</th>\n",
       "      <th>freq_work_days</th>\n",
       "      <th>monetory</th>\n",
       "      <th>FF</th>\n",
       "      <th>avg_rating</th>\n",
       "      <th>pickup_avg</th>\n",
       "      <th>avg_trip_dist</th>\n",
       "      <th>avg_trip_time</th>\n",
       "      <th>avg_trip_speed</th>\n",
       "      <th>dd</th>\n",
       "      <th>Low_rating_perc</th>\n",
       "      <th>ratings_perc</th>\n",
       "      <th>promo_rides_perc</th>\n",
       "      <th>wallet_rides_perc</th>\n",
       "      <th>physical_loc_perc</th>\n",
       "      <th>fake_dist_perc</th>\n",
       "      <th>zero_km_perc</th>\n",
       "      <th>fake_imei_perc</th>\n",
       "      <th>repeat_users_perc</th>\n",
       "      <th>bonus</th>\n",
       "      <th>avg_bonus</th>\n",
       "      <th>total_bonus</th>\n",
       "      <th>activehours_delta</th>\n",
       "      <th>ff_delta</th>\n",
       "      <th>accp_delta</th>\n",
       "      <th>_id</th>\n",
       "      <th>Last_date</th>\n",
       "      <th>defaulter</th>\n",
       "    </tr>\n",
       "  </thead>\n",
       "  <tbody>\n",
       "    <tr>\n",
       "      <th>0</th>\n",
       "      <td>6</td>\n",
       "      <td>29.0</td>\n",
       "      <td>209</td>\n",
       "      <td>4.030303</td>\n",
       "      <td>17.115942</td>\n",
       "      <td>0.148760</td>\n",
       "      <td>0.081340</td>\n",
       "      <td>27.603774</td>\n",
       "      <td>17582</td>\n",
       "      <td>0.757246</td>\n",
       "      <td>4.716418</td>\n",
       "      <td>4.636816</td>\n",
       "      <td>8.908537</td>\n",
       "      <td>19.760766</td>\n",
       "      <td>29.730862</td>\n",
       "      <td>0.009569</td>\n",
       "      <td>0.069652</td>\n",
       "      <td>0.961722</td>\n",
       "      <td>0.038278</td>\n",
       "      <td>0.114833</td>\n",
       "      <td>0.129187</td>\n",
       "      <td>0.430622</td>\n",
       "      <td>0.000000</td>\n",
       "      <td>0.028708</td>\n",
       "      <td>0.856459</td>\n",
       "      <td>0.000000</td>\n",
       "      <td>NaN</td>\n",
       "      <td>NaN</td>\n",
       "      <td>0.866796</td>\n",
       "      <td>2.379333</td>\n",
       "      <td>2.921333</td>\n",
       "      <td>5e5f5bfcc7bba2607688e835</td>\n",
       "      <td>2021-03-02</td>\n",
       "      <td>0</td>\n",
       "    </tr>\n",
       "    <tr>\n",
       "      <th>1</th>\n",
       "      <td>21</td>\n",
       "      <td>33.0</td>\n",
       "      <td>1439</td>\n",
       "      <td>25.245614</td>\n",
       "      <td>11.349145</td>\n",
       "      <td>0.573935</td>\n",
       "      <td>0.184156</td>\n",
       "      <td>44.768889</td>\n",
       "      <td>100881</td>\n",
       "      <td>0.793712</td>\n",
       "      <td>4.693759</td>\n",
       "      <td>5.460227</td>\n",
       "      <td>8.204268</td>\n",
       "      <td>18.150799</td>\n",
       "      <td>32.214697</td>\n",
       "      <td>0.000000</td>\n",
       "      <td>0.087808</td>\n",
       "      <td>0.957609</td>\n",
       "      <td>0.013204</td>\n",
       "      <td>0.033356</td>\n",
       "      <td>0.163308</td>\n",
       "      <td>0.291869</td>\n",
       "      <td>0.002780</td>\n",
       "      <td>0.041001</td>\n",
       "      <td>0.838082</td>\n",
       "      <td>0.000000</td>\n",
       "      <td>NaN</td>\n",
       "      <td>NaN</td>\n",
       "      <td>-0.656889</td>\n",
       "      <td>-8.303333</td>\n",
       "      <td>-0.818000</td>\n",
       "      <td>5e19d0f98019b82ccb7daa8d</td>\n",
       "      <td>2021-03-03</td>\n",
       "      <td>0</td>\n",
       "    </tr>\n",
       "    <tr>\n",
       "      <th>2</th>\n",
       "      <td>22</td>\n",
       "      <td>28.0</td>\n",
       "      <td>716</td>\n",
       "      <td>34.095238</td>\n",
       "      <td>13.135008</td>\n",
       "      <td>0.904762</td>\n",
       "      <td>0.093575</td>\n",
       "      <td>38.553846</td>\n",
       "      <td>51554</td>\n",
       "      <td>0.562009</td>\n",
       "      <td>4.771596</td>\n",
       "      <td>5.388268</td>\n",
       "      <td>9.618267</td>\n",
       "      <td>18.076923</td>\n",
       "      <td>30.483027</td>\n",
       "      <td>0.004190</td>\n",
       "      <td>0.061493</td>\n",
       "      <td>0.953911</td>\n",
       "      <td>0.006983</td>\n",
       "      <td>0.008380</td>\n",
       "      <td>0.135475</td>\n",
       "      <td>0.493017</td>\n",
       "      <td>0.001397</td>\n",
       "      <td>0.082402</td>\n",
       "      <td>0.931564</td>\n",
       "      <td>0.000000</td>\n",
       "      <td>NaN</td>\n",
       "      <td>NaN</td>\n",
       "      <td>0.789389</td>\n",
       "      <td>-4.028000</td>\n",
       "      <td>18.128667</td>\n",
       "      <td>5f7c89f13d2aad0a939e7e6a</td>\n",
       "      <td>2021-03-03</td>\n",
       "      <td>0</td>\n",
       "    </tr>\n",
       "    <tr>\n",
       "      <th>3</th>\n",
       "      <td>27</td>\n",
       "      <td>34.0</td>\n",
       "      <td>385</td>\n",
       "      <td>10.405405</td>\n",
       "      <td>12.477842</td>\n",
       "      <td>0.227799</td>\n",
       "      <td>0.007792</td>\n",
       "      <td>51.826923</td>\n",
       "      <td>39659</td>\n",
       "      <td>0.741811</td>\n",
       "      <td>4.688347</td>\n",
       "      <td>6.849351</td>\n",
       "      <td>8.835079</td>\n",
       "      <td>18.488312</td>\n",
       "      <td>31.285758</td>\n",
       "      <td>0.000000</td>\n",
       "      <td>0.084011</td>\n",
       "      <td>0.958442</td>\n",
       "      <td>0.002597</td>\n",
       "      <td>0.049351</td>\n",
       "      <td>0.238961</td>\n",
       "      <td>0.270130</td>\n",
       "      <td>0.000000</td>\n",
       "      <td>0.075325</td>\n",
       "      <td>0.797403</td>\n",
       "      <td>0.000000</td>\n",
       "      <td>NaN</td>\n",
       "      <td>NaN</td>\n",
       "      <td>-3.645926</td>\n",
       "      <td>17.800667</td>\n",
       "      <td>-7.004000</td>\n",
       "      <td>5ee8fe1da6dbff462e7b4ef5</td>\n",
       "      <td>2021-03-03</td>\n",
       "      <td>0</td>\n",
       "    </tr>\n",
       "    <tr>\n",
       "      <th>4</th>\n",
       "      <td>28</td>\n",
       "      <td>27.0</td>\n",
       "      <td>330</td>\n",
       "      <td>2.117324</td>\n",
       "      <td>14.749071</td>\n",
       "      <td>0.131989</td>\n",
       "      <td>0.190909</td>\n",
       "      <td>18.188976</td>\n",
       "      <td>43012</td>\n",
       "      <td>0.613383</td>\n",
       "      <td>4.780952</td>\n",
       "      <td>5.263636</td>\n",
       "      <td>11.582317</td>\n",
       "      <td>23.835866</td>\n",
       "      <td>43.378888</td>\n",
       "      <td>0.024242</td>\n",
       "      <td>0.050794</td>\n",
       "      <td>0.954545</td>\n",
       "      <td>0.078788</td>\n",
       "      <td>0.206061</td>\n",
       "      <td>0.230303</td>\n",
       "      <td>0.463636</td>\n",
       "      <td>0.006061</td>\n",
       "      <td>0.054545</td>\n",
       "      <td>0.975758</td>\n",
       "      <td>0.690476</td>\n",
       "      <td>65.507246</td>\n",
       "      <td>4520.0</td>\n",
       "      <td>0.766574</td>\n",
       "      <td>6.605333</td>\n",
       "      <td>-4.074000</td>\n",
       "      <td>5a00192a27291e385fd6dafb</td>\n",
       "      <td>2021-02-25</td>\n",
       "      <td>0</td>\n",
       "    </tr>\n",
       "  </tbody>\n",
       "</table>\n",
       "</div>"
      ],
      "text/plain": [
       "   index   AGE  Trips  ...                       _id  Last_date  defaulter\n",
       "0      6  29.0    209  ...  5e5f5bfcc7bba2607688e835 2021-03-02          0\n",
       "1     21  33.0   1439  ...  5e19d0f98019b82ccb7daa8d 2021-03-03          0\n",
       "2     22  28.0    716  ...  5f7c89f13d2aad0a939e7e6a 2021-03-03          0\n",
       "3     27  34.0    385  ...  5ee8fe1da6dbff462e7b4ef5 2021-03-03          0\n",
       "4     28  27.0    330  ...  5a00192a27291e385fd6dafb 2021-02-25          0\n",
       "\n",
       "[5 rows x 34 columns]"
      ]
     },
     "execution_count": 26,
     "metadata": {
      "tags": []
     },
     "output_type": "execute_result"
    }
   ],
   "source": [
    "active.head()"
   ]
  },
  {
   "cell_type": "code",
   "execution_count": null,
   "metadata": {
    "colab": {
     "base_uri": "https://localhost:8080/"
    },
    "id": "FWxo8h8ar224",
    "outputId": "62d1ebf3-aaf7-4f59-96b3-683b90da430a"
   },
   "outputs": [
    {
     "data": {
      "text/plain": [
       "index                   0\n",
       "AGE                     4\n",
       "Trips                   0\n",
       "frequency               0\n",
       "avg_h                   0\n",
       "working_perc            0\n",
       "non_sawari              0\n",
       "freq_work_days          0\n",
       "monetory                0\n",
       "FF                      0\n",
       "avg_rating              0\n",
       "pickup_avg              0\n",
       "avg_trip_dist           0\n",
       "avg_trip_time           0\n",
       "avg_trip_speed          2\n",
       "dd                      0\n",
       "Low_rating_perc         0\n",
       "ratings_perc            0\n",
       "promo_rides_perc        0\n",
       "wallet_rides_perc       0\n",
       "physical_loc_perc       0\n",
       "fake_dist_perc          0\n",
       "zero_km_perc            0\n",
       "fake_imei_perc          0\n",
       "repeat_users_perc       0\n",
       "bonus                   0\n",
       "avg_bonus            1586\n",
       "total_bonus          1586\n",
       "activehours_delta       8\n",
       "ff_delta               20\n",
       "accp_delta              8\n",
       "_id                     0\n",
       "Last_date               0\n",
       "defaulter               0\n",
       "dtype: int64"
      ]
     },
     "execution_count": 27,
     "metadata": {
      "tags": []
     },
     "output_type": "execute_result"
    }
   ],
   "source": [
    "active.isnull().sum()"
   ]
  },
  {
   "cell_type": "code",
   "execution_count": null,
   "metadata": {
    "colab": {
     "base_uri": "https://localhost:8080/"
    },
    "id": "hPc8YoMHd1HL",
    "outputId": "cf9bc1f7-d67c-4b3d-b15d-b679989c609b"
   },
   "outputs": [
    {
     "name": "stderr",
     "output_type": "stream",
     "text": [
      "/usr/local/lib/python3.7/dist-packages/pandas/core/frame.py:4327: SettingWithCopyWarning: \n",
      "A value is trying to be set on a copy of a slice from a DataFrame\n",
      "\n",
      "See the caveats in the documentation: https://pandas.pydata.org/pandas-docs/stable/user_guide/indexing.html#returning-a-view-versus-a-copy\n",
      "  downcast=downcast,\n",
      "/usr/local/lib/python3.7/dist-packages/ipykernel_launcher.py:2: FutureWarning: DataFrame.mean and DataFrame.median with numeric_only=None will include datetime64 and datetime64tz columns in a future version.\n",
      "  \n"
     ]
    }
   ],
   "source": [
    "active[['avg_bonus','total_bonus']].fillna(0, inplace = True)\n",
    "active.fillna(active.mean(), inplace = True)"
   ]
  },
  {
   "cell_type": "code",
   "execution_count": null,
   "metadata": {
    "colab": {
     "base_uri": "https://localhost:8080/"
    },
    "id": "KNS2UyPw9SPg",
    "outputId": "885222e9-0623-4f15-fb4b-819b35acc0ef"
   },
   "outputs": [
    {
     "name": "stderr",
     "output_type": "stream",
     "text": [
      "[Parallel(n_jobs=4)]: Using backend ThreadingBackend with 4 concurrent workers.\n",
      "[Parallel(n_jobs=4)]: Done  42 tasks      | elapsed:    0.0s\n",
      "[Parallel(n_jobs=4)]: Done 192 tasks      | elapsed:    0.1s\n",
      "[Parallel(n_jobs=4)]: Done 442 tasks      | elapsed:    0.2s\n",
      "[Parallel(n_jobs=4)]: Done 500 out of 500 | elapsed:    0.2s finished\n"
     ]
    }
   ],
   "source": [
    "rf_probs = model.predict_proba(active.drop(['_id','defaulter','Last_date','index'], axis = 1))[:, 1]"
   ]
  },
  {
   "cell_type": "code",
   "execution_count": null,
   "metadata": {
    "colab": {
     "base_uri": "https://localhost:8080/",
     "height": 282
    },
    "id": "d7aj1ZKnsVyB",
    "outputId": "f495ca93-b29b-46fa-b344-64fa9539e90f"
   },
   "outputs": [
    {
     "data": {
      "text/plain": [
       "<matplotlib.axes._subplots.AxesSubplot at 0x7fdab65cdc50>"
      ]
     },
     "execution_count": 31,
     "metadata": {
      "tags": []
     },
     "output_type": "execute_result"
    },
    {
     "data": {
      "image/png": "[encoded data removed]",
      "text/plain": [
       "<Figure size 432x288 with 1 Axes>"
      ]
     },
     "metadata": {
      "needs_background": "light",
      "tags": []
     },
     "output_type": "display_data"
    }
   ],
   "source": [
    "pd.Series(rf_probs).hist()"
   ]
  },
  {
   "cell_type": "code",
   "execution_count": null,
   "metadata": {
    "id": "EactOxOmaioM"
   },
   "outputs": [],
   "source": [
    "active['score'] = rf_probs"
   ]
  },
  {
   "cell_type": "code",
   "execution_count": null,
   "metadata": {
    "id": "oPsTCvQvbLrB"
   },
   "outputs": [],
   "source": [
    "active['score'] = 1-active['score']"
   ]
  },
  {
   "cell_type": "code",
   "execution_count": null,
   "metadata": {
    "colab": {
     "base_uri": "https://localhost:8080/",
     "height": 282
    },
    "id": "YNuzzHTidghg",
    "outputId": "e1ea731d-faf0-47e5-ee5d-4bf52bde5c98"
   },
   "outputs": [
    {
     "data": {
      "text/plain": [
       "<matplotlib.axes._subplots.AxesSubplot at 0x7fdab6494bd0>"
      ]
     },
     "execution_count": 34,
     "metadata": {
      "tags": []
     },
     "output_type": "execute_result"
    },
    {
     "data": {
      "image/png": "[encoded data removed]",
      "text/plain": [
       "<Figure size 432x288 with 1 Axes>"
      ]
     },
     "metadata": {
      "needs_background": "light",
      "tags": []
     },
     "output_type": "display_data"
    }
   ],
   "source": [
    "active.score.hist()"
   ]
  },
  {
   "cell_type": "code",
   "execution_count": null,
   "metadata": {
    "colab": {
     "base_uri": "https://localhost:8080/"
    },
    "id": "FJC8Ei8r-Kg6",
    "outputId": "86f81cd9-8556-44ba-8037-ca0bed5b5838"
   },
   "outputs": [
    {
     "data": {
      "text/plain": [
       "index                7161\n",
       "non_sawari           7161\n",
       "freq_work_days       7161\n",
       "FF                   7161\n",
       "avg_trip_time        7161\n",
       "ratings_perc         7161\n",
       "promo_rides_perc     7161\n",
       "physical_loc_perc    7161\n",
       "bonus                7161\n",
       "avg_bonus            7161\n",
       "total_bonus          7161\n",
       "_id                  7161\n",
       "Last_date            7161\n",
       "defaulter            7161\n",
       "score                7161\n",
       "dtype: int64"
      ]
     },
     "execution_count": 35,
     "metadata": {
      "tags": []
     },
     "output_type": "execute_result"
    }
   ],
   "source": [
    "active[active['score'] >= 0.5].count()"
   ]
  },
  {
   "cell_type": "code",
   "execution_count": null,
   "metadata": {
    "id": "_o5dgCD9mR4k"
   },
   "outputs": [],
   "source": [
    "from datetime import date\n",
    "today = date.today()\n",
    "\n",
    "from google.colab import files\n",
    "active.to_csv('Driverprofile {}.csv'.format(today),index=True, header=True)\n",
    "import time\n",
    "\n",
    "time.sleep(10)"
   ]
  },
  {
   "cell_type": "code",
   "execution_count": null,
   "metadata": {
    "colab": {
     "base_uri": "https://localhost:8080/",
     "height": 17
    },
    "id": "_8gMiSJPnYGS",
    "outputId": "253e05ce-7f40-4296-ac63-51a4a68fdd5e"
   },
   "outputs": [
    {
     "data": {
      "application/javascript": [
       "\n",
       "    async function download(id, filename, size) {\n",
       "      if (!google.colab.kernel.accessAllowed) {\n",
       "        return;\n",
       "      }\n",
       "      const div = document.createElement('div');\n",
       "      const label = document.createElement('label');\n",
       "      label.textContent = `Downloading \"${filename}\": `;\n",
       "      div.appendChild(label);\n",
       "      const progress = document.createElement('progress');\n",
       "      progress.max = size;\n",
       "      div.appendChild(progress);\n",
       "      document.body.appendChild(div);\n",
       "\n",
       "      const buffers = [];\n",
       "      let downloaded = 0;\n",
       "\n",
       "      const channel = await google.colab.kernel.comms.open(id);\n",
       "      // Send a message to notify the kernel that we're ready.\n",
       "      channel.send({})\n",
       "\n",
       "      for await (const message of channel.messages) {\n",
       "        // Send a message to notify the kernel that we're ready.\n",
       "        channel.send({})\n",
       "        if (message.buffers) {\n",
       "          for (const buffer of message.buffers) {\n",
       "            buffers.push(buffer);\n",
       "            downloaded += buffer.byteLength;\n",
       "            progress.value = downloaded;\n",
       "          }\n",
       "        }\n",
       "      }\n",
       "      const blob = new Blob(buffers, {type: 'application/binary'});\n",
       "      const a = document.createElement('a');\n",
       "      a.href = window.URL.createObjectURL(blob);\n",
       "      a.download = filename;\n",
       "      div.appendChild(a);\n",
       "      a.click();\n",
       "      div.remove();\n",
       "    }\n",
       "  "
      ],
      "text/plain": [
       "<IPython.core.display.Javascript object>"
      ]
     },
     "metadata": {
      "tags": []
     },
     "output_type": "display_data"
    },
    {
     "data": {
      "application/javascript": [
       "download(\"download_6f9aae4e-ee4e-437c-a186-6846e9c51036\", \"cashprofile 2021-04-05.csv\", 1654737)"
      ],
      "text/plain": [
       "<IPython.core.display.Javascript object>"
      ]
     },
     "metadata": {
      "tags": []
     },
     "output_type": "display_data"
    }
   ],
   "source": [
    "files.download('Driverprofile {}.csv'.format(today))"
   ]
  },
  {
   "cell_type": "code",
   "execution_count": null,
   "metadata": {
    "id": "pgptWYzJky90"
   },
   "outputs": [],
   "source": []
  }
 ],
 "metadata": {
  "accelerator": "GPU",
  "colab": {
   "machine_shape": "hm",
   "provenance": []
  },
  "kernelspec": {
   "display_name": "Python 3 (ipykernel)",
   "language": "python",
   "name": "python3"
  },
  "language_info": {
   "codemirror_mode": {
    "name": "ipython",
    "version": 3
   },
   "file_extension": ".py",
   "mimetype": "text/x-python",
   "name": "python",
   "nbconvert_exporter": "python",
   "pygments_lexer": "ipython3",
   "version": "3.8.10"
  }
 },
 "nbformat": 4,
 "nbformat_minor": 1
}
